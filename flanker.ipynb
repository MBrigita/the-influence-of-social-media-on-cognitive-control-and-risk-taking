{
 "cells": [
  {
   "cell_type": "code",
   "execution_count": 32,
   "metadata": {},
   "outputs": [],
   "source": [
    "import os\n",
    "os.getcwd()\n",
    "\n",
    "import pandas as pd\n",
    "import numpy as np\n",
    "from scipy import stats "
   ]
  },
  {
   "cell_type": "code",
   "execution_count": 33,
   "metadata": {},
   "outputs": [
    {
     "data": {
      "text/html": [
       "<div>\n",
       "<style scoped>\n",
       "    .dataframe tbody tr th:only-of-type {\n",
       "        vertical-align: middle;\n",
       "    }\n",
       "\n",
       "    .dataframe tbody tr th {\n",
       "        vertical-align: top;\n",
       "    }\n",
       "\n",
       "    .dataframe thead th {\n",
       "        text-align: right;\n",
       "    }\n",
       "</style>\n",
       "<table border=\"1\" class=\"dataframe\">\n",
       "  <thead>\n",
       "    <tr style=\"text-align: right;\">\n",
       "      <th></th>\n",
       "      <th>groupId</th>\n",
       "      <th>sessionId</th>\n",
       "      <th>elapsedTime</th>\n",
       "      <th>completed</th>\n",
       "      <th>practice1ACC</th>\n",
       "      <th>practice2ACC</th>\n",
       "      <th>percenterrors</th>\n",
       "      <th>meanRT</th>\n",
       "      <th>percenterrors_c</th>\n",
       "      <th>meanrt_c</th>\n",
       "      <th>percenterrors_ic</th>\n",
       "      <th>meanrt_ic</th>\n",
       "    </tr>\n",
       "  </thead>\n",
       "  <tbody>\n",
       "    <tr>\n",
       "      <th>count</th>\n",
       "      <td>1.740000e+02</td>\n",
       "      <td>173.000000</td>\n",
       "      <td>1.740000e+02</td>\n",
       "      <td>174.000000</td>\n",
       "      <td>170.000000</td>\n",
       "      <td>166.000000</td>\n",
       "      <td>170.000000</td>\n",
       "      <td>166.000000</td>\n",
       "      <td>166.000000</td>\n",
       "      <td>166.000000</td>\n",
       "      <td>166.000000</td>\n",
       "      <td>166.000000</td>\n",
       "    </tr>\n",
       "    <tr>\n",
       "      <th>mean</th>\n",
       "      <td>4.726338e+08</td>\n",
       "      <td>1.034682</td>\n",
       "      <td>4.683232e+05</td>\n",
       "      <td>0.942529</td>\n",
       "      <td>0.941872</td>\n",
       "      <td>0.949297</td>\n",
       "      <td>4.200089</td>\n",
       "      <td>586.484856</td>\n",
       "      <td>2.730924</td>\n",
       "      <td>561.472079</td>\n",
       "      <td>5.122596</td>\n",
       "      <td>611.975634</td>\n",
       "    </tr>\n",
       "    <tr>\n",
       "      <th>std</th>\n",
       "      <td>2.992118e+08</td>\n",
       "      <td>0.183504</td>\n",
       "      <td>2.181291e+05</td>\n",
       "      <td>0.233413</td>\n",
       "      <td>0.115706</td>\n",
       "      <td>0.130647</td>\n",
       "      <td>10.888869</td>\n",
       "      <td>142.286865</td>\n",
       "      <td>10.264444</td>\n",
       "      <td>147.771416</td>\n",
       "      <td>12.031391</td>\n",
       "      <td>153.561528</td>\n",
       "    </tr>\n",
       "    <tr>\n",
       "      <th>min</th>\n",
       "      <td>9.919600e+05</td>\n",
       "      <td>1.000000</td>\n",
       "      <td>1.842900e+04</td>\n",
       "      <td>0.000000</td>\n",
       "      <td>0.000000</td>\n",
       "      <td>0.000000</td>\n",
       "      <td>0.000000</td>\n",
       "      <td>386.762712</td>\n",
       "      <td>0.000000</td>\n",
       "      <td>359.333333</td>\n",
       "      <td>0.000000</td>\n",
       "      <td>386.586207</td>\n",
       "    </tr>\n",
       "    <tr>\n",
       "      <th>25%</th>\n",
       "      <td>2.095554e+08</td>\n",
       "      <td>1.000000</td>\n",
       "      <td>4.358890e+05</td>\n",
       "      <td>1.000000</td>\n",
       "      <td>0.916667</td>\n",
       "      <td>0.916667</td>\n",
       "      <td>0.000000</td>\n",
       "      <td>488.725000</td>\n",
       "      <td>0.000000</td>\n",
       "      <td>459.166667</td>\n",
       "      <td>0.000000</td>\n",
       "      <td>510.850000</td>\n",
       "    </tr>\n",
       "    <tr>\n",
       "      <th>50%</th>\n",
       "      <td>4.245279e+08</td>\n",
       "      <td>1.000000</td>\n",
       "      <td>4.591285e+05</td>\n",
       "      <td>1.000000</td>\n",
       "      <td>1.000000</td>\n",
       "      <td>1.000000</td>\n",
       "      <td>1.666667</td>\n",
       "      <td>547.582471</td>\n",
       "      <td>0.000000</td>\n",
       "      <td>520.082051</td>\n",
       "      <td>0.000000</td>\n",
       "      <td>574.103448</td>\n",
       "    </tr>\n",
       "    <tr>\n",
       "      <th>75%</th>\n",
       "      <td>7.523494e+08</td>\n",
       "      <td>1.000000</td>\n",
       "      <td>4.880932e+05</td>\n",
       "      <td>1.000000</td>\n",
       "      <td>1.000000</td>\n",
       "      <td>1.000000</td>\n",
       "      <td>3.333333</td>\n",
       "      <td>637.957627</td>\n",
       "      <td>0.000000</td>\n",
       "      <td>604.298851</td>\n",
       "      <td>3.333333</td>\n",
       "      <td>664.775000</td>\n",
       "    </tr>\n",
       "    <tr>\n",
       "      <th>max</th>\n",
       "      <td>9.995826e+08</td>\n",
       "      <td>2.000000</td>\n",
       "      <td>3.003946e+06</td>\n",
       "      <td>1.000000</td>\n",
       "      <td>1.000000</td>\n",
       "      <td>1.000000</td>\n",
       "      <td>85.000000</td>\n",
       "      <td>1069.442308</td>\n",
       "      <td>93.333333</td>\n",
       "      <td>1127.300000</td>\n",
       "      <td>76.666667</td>\n",
       "      <td>1261.400000</td>\n",
       "    </tr>\n",
       "  </tbody>\n",
       "</table>\n",
       "</div>"
      ],
      "text/plain": [
       "            groupId   sessionId   elapsedTime   completed  practice1ACC  \\\n",
       "count  1.740000e+02  173.000000  1.740000e+02  174.000000    170.000000   \n",
       "mean   4.726338e+08    1.034682  4.683232e+05    0.942529      0.941872   \n",
       "std    2.992118e+08    0.183504  2.181291e+05    0.233413      0.115706   \n",
       "min    9.919600e+05    1.000000  1.842900e+04    0.000000      0.000000   \n",
       "25%    2.095554e+08    1.000000  4.358890e+05    1.000000      0.916667   \n",
       "50%    4.245279e+08    1.000000  4.591285e+05    1.000000      1.000000   \n",
       "75%    7.523494e+08    1.000000  4.880932e+05    1.000000      1.000000   \n",
       "max    9.995826e+08    2.000000  3.003946e+06    1.000000      1.000000   \n",
       "\n",
       "       practice2ACC  percenterrors       meanRT  percenterrors_c     meanrt_c  \\\n",
       "count    166.000000     170.000000   166.000000       166.000000   166.000000   \n",
       "mean       0.949297       4.200089   586.484856         2.730924   561.472079   \n",
       "std        0.130647      10.888869   142.286865        10.264444   147.771416   \n",
       "min        0.000000       0.000000   386.762712         0.000000   359.333333   \n",
       "25%        0.916667       0.000000   488.725000         0.000000   459.166667   \n",
       "50%        1.000000       1.666667   547.582471         0.000000   520.082051   \n",
       "75%        1.000000       3.333333   637.957627         0.000000   604.298851   \n",
       "max        1.000000      85.000000  1069.442308        93.333333  1127.300000   \n",
       "\n",
       "       percenterrors_ic    meanrt_ic  \n",
       "count        166.000000   166.000000  \n",
       "mean           5.122596   611.975634  \n",
       "std           12.031391   153.561528  \n",
       "min            0.000000   386.586207  \n",
       "25%            0.000000   510.850000  \n",
       "50%            0.000000   574.103448  \n",
       "75%            3.333333   664.775000  \n",
       "max           76.666667  1261.400000  "
      ]
     },
     "execution_count": 33,
     "metadata": {},
     "output_type": "execute_result"
    }
   ],
   "source": [
    "flanker = pd.read_excel(\"minalicen_flankerfish_childflankerfish_summary_2406301638.xlsx\")\n",
    "flanker.describe()\n"
   ]
  },
  {
   "cell_type": "code",
   "execution_count": 34,
   "metadata": {},
   "outputs": [],
   "source": [
    "# Select specific columns (Python index starts at 0, so column 5 is index 4, and columns 12 to 17 are indices 11 to 16)\n",
    "flanker = flanker.iloc[:, [4, 7, 8, 11, 12, 13, 14, 15, 16]]\n"
   ]
  },
  {
   "cell_type": "code",
   "execution_count": 37,
   "metadata": {},
   "outputs": [
    {
     "name": "stdout",
     "output_type": "stream",
     "text": [
      "Number of outliers detected: 8\n",
      "  subjectId  elapsedTime  completed  percenterrors      meanRT  \\\n",
      "0   666jgdh       569677          1      85.000000  762.666667   \n",
      "1   minal99       426716          1      21.666667  936.191489   \n",
      "2   mhri388       428922          1       5.000000  558.508772   \n",
      "3   Ajna888       523065          1       1.666667  548.711864   \n",
      "4   Mars201       438810          1       0.000000  566.416667   \n",
      "\n",
      "   percenterrors_c    meanrt_c  percenterrors_ic    meanrt_ic  outliers  \n",
      "0        93.333333  441.500000         76.666667   854.428571         1  \n",
      "1         6.666667  879.107143         36.666667  1020.315789         1  \n",
      "2         3.333333  501.482759          6.666667   617.571429         0  \n",
      "3         0.000000  522.100000          3.333333   576.241379         0  \n",
      "4         0.000000  535.166667          0.000000   597.666667         0  \n"
     ]
    }
   ],
   "source": [
    "# Columns to check for outliers\n",
    "columns_to_check = ['percenterrors', 'meanRT', 'percenterrors_c', 'meanrt_c', 'percenterrors_ic', 'meanrt_ic']\n",
    "\n",
    "# Filter the DataFrame to only include rows where 'completed' == 1\n",
    "completed_flanker = flanker[flanker['completed'] == 1]\n",
    "\n",
    "# Calculate Z-scores for the selected columns in the filtered DataFrame\n",
    "z_scores = np.abs(stats.zscore(completed_flanker[columns_to_check]))\n",
    "\n",
    "# Define a threshold for outliers (e.g., z-score > 3)\n",
    "threshold = 3\n",
    "\n",
    "# Identify rows with outliers in any of the selected columns\n",
    "outlier_mask = (z_scores > threshold).any(axis=1)\n",
    "\n",
    "# Initialize the 'outliers' column to 0\n",
    "flanker['outliers'] = 0\n",
    "\n",
    "# Update the 'outliers' column in the original DataFrame based on the filtered DataFrame's outlier_mask\n",
    "flanker.loc[completed_flanker.index, 'outliers'] = np.where(outlier_mask, 1, 0)\n",
    "\n",
    "# print the number of outliers detected\n",
    "num_outliers = outlier_mask.sum()\n",
    "print(f'Number of outliers detected: {num_outliers}')\n",
    "\n",
    "# Display the DataFrame to verify\n",
    "print(flanker.head())"
   ]
  },
  {
   "cell_type": "code",
   "execution_count": 36,
   "metadata": {},
   "outputs": [
    {
     "name": "stdout",
     "output_type": "stream",
     "text": [
      "Number of outliers detected: 0\n"
     ]
    }
   ],
   "source": [
    "#descriptive statistics \n",
    "print(flanker.dtypes)\n",
    "print(flanker.describe())\n"
   ]
  },
  {
   "cell_type": "code",
   "execution_count": 48,
   "metadata": {},
   "outputs": [],
   "source": [
    "#getting just the appropriate data for analysis\n",
    "df_f = flanker[flanker['completed'] == 1]\n",
    "df_f = flanker[flanker['outliers'] == 0]\n",
    "df_f = df_f.dropna(subset=columns_to_check)"
   ]
  },
  {
   "cell_type": "code",
   "execution_count": 49,
   "metadata": {},
   "outputs": [
    {
     "name": "stdout",
     "output_type": "stream",
     "text": [
      "\n",
      "Paired t-test for Reaction Times:\n",
      "t-statistic: -7.354085442534406, p-value: 1.0000153428453355e-11\n",
      "\n",
      "Paired t-test for Error Rates:\n",
      "t-statistic: -5.466399602515691, p-value: 1.7709562468030264e-07\n",
      "\n",
      "Correlation Analysis for Reaction Times:\n",
      "Correlation coefficient: 0.8116225697881414, p-value: 2.988470996646261e-38\n",
      "\n",
      "Correlation Analysis for Error Rates:\n",
      "Correlation coefficient: 0.8376327140357185, p-value: 8.157029113680902e-43\n"
     ]
    }
   ],
   "source": [
    "from scipy.stats import ttest_rel, pearsonr\n",
    "\n",
    "# Paired t-tests\n",
    "ttest_rt = ttest_rel(df_f['meanrt_c'], df_f['meanrt_ic'])\n",
    "ttest_errors = ttest_rel(df_f['percenterrors_c'], df_f['percenterrors_ic'])\n",
    "\n",
    "print(\"\\nPaired t-test for Reaction Times:\")\n",
    "print(f\"t-statistic: {ttest_rt.statistic}, p-value: {ttest_rt.pvalue}\")\n",
    "\n",
    "print(\"\\nPaired t-test for Error Rates:\")\n",
    "print(f\"t-statistic: {ttest_errors.statistic}, p-value: {ttest_errors.pvalue}\")\n",
    "\n",
    "# Correlation analysis\n",
    "corr_rt = pearsonr(df_f['meanrt_c'], df_f['meanrt_ic'])\n",
    "corr_errors = pearsonr(df_f['percenterrors_c'], df_f['percenterrors_ic'])\n",
    "\n",
    "print(\"\\nCorrelation Analysis for Reaction Times:\")\n",
    "print(f\"Correlation coefficient: {corr_rt[0]}, p-value: {corr_rt[1]}\")\n",
    "\n",
    "print(\"\\nCorrelation Analysis for Error Rates:\")\n",
    "print(f\"Correlation coefficient: {corr_errors[0]}, p-value: {corr_errors[1]}\")"
   ]
  },
  {
   "cell_type": "code",
   "execution_count": 50,
   "metadata": {},
   "outputs": [
    {
     "data": {
      "text/plain": [
       "'/Users/brigitamilanic/Documents/thesis'"
      ]
     },
     "execution_count": 50,
     "metadata": {},
     "output_type": "execute_result"
    }
   ],
   "source": [
    "import os\n",
    "os.getcwd()"
   ]
  },
  {
   "cell_type": "code",
   "execution_count": 52,
   "metadata": {},
   "outputs": [
    {
     "name": "stdout",
     "output_type": "stream",
     "text": [
      "  subjectId  elapsedTime  completed  percenterrors      meanRT  \\\n",
      "2   mhri388       428922          1       5.000000  558.508772   \n",
      "3   Ajna888       523065          1       1.666667  548.711864   \n",
      "4   Mars201       438810          1       0.000000  566.416667   \n",
      "5   adef331       468925          1       0.000000  566.033333   \n",
      "6   gf43gg1       473088          1       0.000000  664.350000   \n",
      "\n",
      "   percenterrors_c    meanrt_c  percenterrors_ic   meanrt_ic  outliers  \\\n",
      "2         3.333333  501.482759          6.666667  617.571429         0   \n",
      "3         0.000000  522.100000          3.333333  576.241379         0   \n",
      "4         0.000000  535.166667          0.000000  597.666667         0   \n",
      "5         0.000000  543.000000          0.000000  589.066667         0   \n",
      "6         0.000000  671.366667          0.000000  657.333333         0   \n",
      "\n",
      "    CII_ACC    CII_RT  \n",
      "2  0.964912  0.792524  \n",
      "3  0.966102  0.901412  \n",
      "4  1.000000  0.889657  \n",
      "5  1.000000  0.918615  \n",
      "6  1.000000  0.978877  \n"
     ]
    }
   ],
   "source": [
    "#calculation of cogntive inhibition index for accuarcy and reaction time\n",
    "\n",
    "# Define the formulas for CII_ACC and CII_RT\n",
    "def calculate_cii_acc(percenterrors_c, percenterrors_ic):\n",
    "    acc_c = 100 - percenterrors_c\n",
    "    acc_ic = 100 - percenterrors_ic\n",
    "    return 1 - (acc_c - acc_ic) / ((acc_c + acc_ic) / 2)\n",
    "\n",
    "def calculate_cii_rt(meanrt_c, meanrt_ic):\n",
    "    return 1 - abs(meanrt_ic - meanrt_c) / ((meanrt_ic + meanrt_c) / 2)\n",
    "\n",
    "# Apply the formulas to each row in the DataFrame\n",
    "df_f['CII_ACC'] = df_f.apply(lambda row: calculate_cii_acc(row['percenterrors_c'], row['percenterrors_ic']), axis=1)\n",
    "df_f['CII_RT'] = df_f.apply(lambda row: calculate_cii_rt(row['meanrt_c'], row['meanrt_ic']), axis=1)\n",
    "\n",
    "# Save the results to a new CSV file\n",
    "# output_file_path = '/mnt/data/cii_results.csv'\n",
    "# df_f.to_csv(output_file_path, index=False)\n",
    "\n",
    "# Display the first few rows of the updated DataFrame\n",
    "print(df_f.head())"
   ]
  },
  {
   "cell_type": "code",
   "execution_count": 54,
   "metadata": {},
   "outputs": [
    {
     "data": {
      "image/png": "[encoded data removed]",
      "text/plain": [
       "<Figure size 800x600 with 1 Axes>"
      ]
     },
     "metadata": {},
     "output_type": "display_data"
    }
   ],
   "source": [
    "import matplotlib.pyplot as plt\n",
    "# Calculate the average CII_ACC and CII_RT\n",
    "average_cii_acc = df_f['CII_ACC'].mean()\n",
    "average_cii_rt = df_f['CII_RT'].mean()\n",
    "\n",
    "# Plot the average CII_ACC and CII_RT\n",
    "labels = ['CII_ACC', 'CII_RT']\n",
    "averages = [average_cii_acc, average_cii_rt]\n",
    "\n",
    "plt.figure(figsize=(8, 6))\n",
    "plt.bar(labels, averages, color=['pink', 'lightgreen'])\n",
    "plt.ylabel('Average Index Value')\n",
    "plt.title('Average Cognitive Inhibition Index (CII)')\n",
    "plt.show()"
   ]
  }
 ],
 "metadata": {
  "kernelspec": {
   "display_name": "base",
   "language": "python",
   "name": "python3"
  },
  "language_info": {
   "codemirror_mode": {
    "name": "ipython",
    "version": 3
   },
   "file_extension": ".py",
   "mimetype": "text/x-python",
   "name": "python",
   "nbconvert_exporter": "python",
   "pygments_lexer": "ipython3",
   "version": "3.12.4"
  }
 },
 "nbformat": 4,
 "nbformat_minor": 2
}
