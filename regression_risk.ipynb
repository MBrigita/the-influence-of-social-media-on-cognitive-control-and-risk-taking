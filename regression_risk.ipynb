{
 "cells": [
  {
   "cell_type": "code",
   "execution_count": 16,
   "metadata": {},
   "outputs": [],
   "source": [
    "import os\n",
    "os.getcwd()\n",
    "import pandas as pd\n",
    "import numpy as np\n",
    "from scipy import stats \n",
    "import matplotlib.pyplot as plt\n",
    "import seaborn as sns\n",
    "import scipy.stats as stats\n",
    "import statsmodels.api as sm\n",
    "from sklearn.metrics import classification_report,confusion_matrix, accuracy_score\n",
    "from statsmodels.formula.api import ols\n",
    "from scipy.stats import ttest_ind, pearsonr, chi2_contingency, skew\n",
    "from sklearn.model_selection import train_test_split\n",
    "from statsmodels.miscmodels.ordinal_model import OrderedModel\n"
   ]
  },
  {
   "cell_type": "code",
   "execution_count": null,
   "metadata": {},
   "outputs": [],
   "source": [
    "survey = pd.read_excel(\"survey.xlsx\")\n",
    "survey=survey[survey['included']==1]"
   ]
  },
  {
   "cell_type": "code",
   "execution_count": 4,
   "metadata": {},
   "outputs": [
    {
     "name": "stdout",
     "output_type": "stream",
     "text": [
      "Number of outliers detected: 2\n",
      "   included   IDkoda  not equal            t_insert              t_edit  \\\n",
      "5         1  487grfa          0 2024-05-29 10:13:01 2024-05-29 10:21:04   \n",
      "6         1  731gkam          0 2024-05-29 10:13:02 2024-05-29 10:20:05   \n",
      "7         1   705fml          0 2024-05-29 10:13:03 2024-05-29 10:22:24   \n",
      "8         1  67bemf5          0 2024-05-29 10:13:04 2024-05-29 10:22:02   \n",
      "9         1  001mgan          1 2024-05-29 10:13:05 2024-05-29 10:23:43   \n",
      "\n",
      "   status  SEX  AGE   Q2   Q3  ...  FB actual  whatsApp actual  \\\n",
      "5       6    2   23  0.0  0.0  ...         23                0   \n",
      "6       6    2   22  0.0  0.0  ...          0                0   \n",
      "7       6    2   22  0.0  0.0  ...         21                0   \n",
      "8       6    1   22  0.0  0.0  ...         57                0   \n",
      "9       6    2   22  0.0  0.0  ...         26                4   \n",
      "\n",
      "   LinkedIn actual  Twitter actual  Youtube actual  Snapchat actual  \\\n",
      "5                0               0               0                0   \n",
      "6                0               0               0                0   \n",
      "7                1               0              16               40   \n",
      "8                0               0              64                0   \n",
      "9                0               0              60              166   \n",
      "\n",
      "   Threads actual  Pinterest actual  other actual  outliers  \n",
      "5               0                 0             0         0  \n",
      "6               0                 0             0         0  \n",
      "7               0                16             0         0  \n",
      "8               0                 0             0         0  \n",
      "9               0                 0            60         0  \n",
      "\n",
      "[5 rows x 44 columns]\n"
     ]
    }
   ],
   "source": [
    "#columns_to_check_time = [\n",
    "#      'time spend on all social media apps actual', 'Instagram actual',\n",
    "#       'TikTok actual', 'FB actual', 'whatsApp actual', 'LinkedIn actual',\n",
    "#       'Twitter actual', 'Youtube actual', 'Snapchat actual', 'Threads actual',\n",
    "#       'Pinterest actual', 'other actual']\n",
    "columns_to_check_time = [\n",
    "       'time spend on all social media apps actual']\n",
    "# Calculate Z-score for the selected columns\n",
    "z_scores_time = np.abs(stats.zscore(survey[columns_to_check_time]))\n",
    "\n",
    "# Define a threshold for outliers (e.g., z-score > 3)\n",
    "threshold = 3\n",
    "\n",
    "# Create a mask to filter out rows with outliers in any of the selected columns\n",
    "outlier_mask_time = (z_scores_time > threshold).any(axis=1)\n",
    "\n",
    "# Filter out rows with outliers\n",
    "df_cleaned = survey[~outlier_mask_time]\n",
    "df_cleaned = df_cleaned.reset_index(drop=True)\n",
    "\n",
    "# Initialize the 'outliers' column to 0\n",
    "survey['outliers'] = 0\n",
    "\n",
    "# Update the 'outliers' column in the original DataFrame based on the filtered DataFrame's outlier_mask\n",
    "survey.loc[survey.index, 'outliers'] = np.where(outlier_mask_time, 1, 0)\n",
    "\n",
    "# print the number of outliers detected\n",
    "num_outliers = outlier_mask_time.sum()\n",
    "print(f'Number of outliers detected: {num_outliers}')\n",
    "\n",
    "# Display the DataFrame to verify\n",
    "print(survey.head())\n",
    "survey = survey[survey['outliers'] == 0]"
   ]
  },
  {
   "cell_type": "code",
   "execution_count": 5,
   "metadata": {},
   "outputs": [],
   "source": [
    "# transforming risk taking outcomes into just one variable for lotteries, to see if we find some siginifcant resutls\n",
    "# Create a risk-taking variable\n",
    "lotteries = ['Q2','Q3','Q4','Q5']\n",
    "def classify_risk_taking(row):\n",
    "    num_risky = sum(row[col] == 1 for col in lotteries)\n",
    "    num_safe = sum(row[col] == 0 for col in lotteries)\n",
    "    if num_risky > num_safe:\n",
    "        return 1  # Risk-taking\n",
    "    elif num_safe > num_risky:\n",
    "        return -1   # Risk-averse\n",
    "    else:\n",
    "        return 0  # Neutral\n",
    "\n",
    "survey['risk_taking'] = survey.apply(classify_risk_taking, axis=1)\n",
    "\n",
    "survey['sum_r'] = survey[lotteries].sum(axis=1)\n",
    "\n",
    "# Risk-taking framing effect from scenarios \n",
    "scenarios_columns = [ 'Q8', 'Q9', 'Q7a', 'Q7b']\n",
    "def classify_framing(row):\n",
    "    num_risky = sum(row[col] == 1 for col in scenarios_columns)\n",
    "    num_safe = sum(row[col] == 0 for col in scenarios_columns)\n",
    "    if num_risky == 2:\n",
    "        return 0  \n",
    "    elif num_safe == 2:\n",
    "        return 0   \n",
    "    else:\n",
    "        return 1   \n",
    "    \n",
    "    \n",
    "survey['framing'] = survey.apply(classify_framing, axis=1)"
   ]
  },
  {
   "cell_type": "code",
   "execution_count": 6,
   "metadata": {},
   "outputs": [
    {
     "data": {
      "image/png": "[encoded data removed]",
      "text/plain": [
       "<Figure size 640x480 with 1 Axes>"
      ]
     },
     "metadata": {},
     "output_type": "display_data"
    },
    {
     "name": "stdout",
     "output_type": "stream",
     "text": [
      "Chi-square statistic: 10.389583487192223, p-value: 0.03435241881913883\n"
     ]
    }
   ],
   "source": [
    "# Create the histogram\n",
    "plt.hist(survey['time spend on all social media apps actual'], bins=30, edgecolor='black')\n",
    "plt.title('Distribution Histogram')\n",
    "plt.xlabel('Value')\n",
    "plt.ylabel('Frequency')\n",
    "plt.show()\n",
    "\n",
    "# Define percentiles\n",
    "tercile1 = survey['time spend on all social media apps actual'].quantile(0.33)\n",
    "tercile2 = survey['time spend on all social media apps actual'].quantile(0.66)\n",
    "\n",
    "# Create the new variable\n",
    "def categorize_usage(minutes):\n",
    "    if minutes <= tercile1:\n",
    "        return 0\n",
    "    elif minutes <= tercile2:\n",
    "        return 1\n",
    "    else:\n",
    "        return 2\n",
    "\n",
    "survey['social_media_group'] = survey['time spend on all social media apps actual'].apply(categorize_usage)\n",
    "# Create contingency table for risk-taking and social media usage\n",
    "contingency_table = pd.crosstab(survey['risk_taking'], survey['social_media_group'])\n",
    "\n",
    "# Perform Chi-square test\n",
    "chi2, p, _, _ = chi2_contingency(contingency_table)\n",
    "print(f\"Chi-square statistic: {chi2}, p-value: {p}\")\n"
   ]
  },
  {
   "cell_type": "code",
   "execution_count": 37,
   "metadata": {},
   "outputs": [
    {
     "name": "stdout",
     "output_type": "stream",
     "text": [
      "Chi-square statistic: 2.275091774771616, p-value: 0.3206048575823326\n"
     ]
    }
   ],
   "source": [
    "# Create contingency table for framing risk-taking and social media usage\n",
    "contingency_framing_table = pd.crosstab(survey['framing'], survey['social_media_group'])\n",
    "\n",
    "# Perform Chi-square test\n",
    "chi2, p, _, _ = chi2_contingency(contingency_framing_table)\n",
    "print(f\"Chi-square statistic: {chi2}, p-value: {p}\")"
   ]
  },
  {
   "cell_type": "code",
   "execution_count": 38,
   "metadata": {},
   "outputs": [
    {
     "name": "stdout",
     "output_type": "stream",
     "text": [
      "Optimization terminated successfully.\n",
      "         Current function value: 0.997092\n",
      "         Iterations: 24\n",
      "         Function evaluations: 29\n",
      "         Gradient evaluations: 29\n",
      "                             OrderedModel Results                             \n",
      "==============================================================================\n",
      "Dep. Variable:            risk_taking   Log-Likelihood:                -444.70\n",
      "Model:                   OrderedModel   AIC:                             899.4\n",
      "Method:            Maximum Likelihood   BIC:                             919.9\n",
      "Date:                Mon, 09 Sep 2024                                         \n",
      "Time:                        13:46:30                                         \n",
      "No. Observations:                 446                                         \n",
      "Df Residuals:                     441                                         \n",
      "Df Model:                           3                                         \n",
      "======================================================================================\n",
      "                         coef    std err          z      P>|z|      [0.025      0.975]\n",
      "--------------------------------------------------------------------------------------\n",
      "social_media_group     0.1144      0.111      1.034      0.301      -0.102       0.331\n",
      "SEX                   -0.6081      0.188     -3.236      0.001      -0.976      -0.240\n",
      "AGE                   -0.1012      0.078     -1.293      0.196      -0.255       0.052\n",
      "-1/0                  -3.7673      1.747     -2.156      0.031      -7.192      -0.342\n",
      "0/1                    0.8569      0.059     14.539      0.000       0.741       0.972\n",
      "======================================================================================\n"
     ]
    }
   ],
   "source": [
    "# Prepare data for ordinal logistic regression\n",
    "survey['social_media_group'] = survey['social_media_group'].astype('category').cat.codes\n",
    "X = survey[['social_media_group', 'SEX', 'AGE']]\n",
    "y = survey['risk_taking']\n",
    "\n",
    "# Fit the ordinal logistic regression model\n",
    "model_TERCILE = OrderedModel(y, X, distr='logit')\n",
    "result_TERCILE = model_TERCILE.fit(method='bfgs')\n",
    "\n",
    "# Display the summary\n",
    "print(result_TERCILE.summary())"
   ]
  },
  {
   "cell_type": "code",
   "execution_count": 7,
   "metadata": {},
   "outputs": [
    {
     "name": "stdout",
     "output_type": "stream",
     "text": [
      "Chi-square statistic: 13.01895021963614, p-value: 0.011183570037573807\n"
     ]
    }
   ],
   "source": [
    "# Create the new variable\n",
    "def categorize_usage(minutes):\n",
    "    if minutes <= 200: #190,150\n",
    "        return 0\n",
    "    elif minutes <= 270: #270\n",
    "        return 1\n",
    "    else:\n",
    "        return 2\n",
    "\n",
    "survey['social_media_group'] = survey['time spend on all social media apps actual'].apply(categorize_usage)\n",
    "# Create contingency table for risk-taking and social media usage\n",
    "contingency_table = pd.crosstab(survey['risk_taking'], survey['social_media_group'])\n",
    "\n",
    "# Perform Chi-square test\n",
    "chi2, p, _, _ = chi2_contingency(contingency_table)\n",
    "print(f\"Chi-square statistic: {chi2}, p-value: {p}\")\n",
    "\n"
   ]
  },
  {
   "cell_type": "code",
   "execution_count": 43,
   "metadata": {},
   "outputs": [],
   "source": [
    "# at the end i did not use this\n",
    "# #definding a new variable that sums upp social media apps\n",
    "# columns_to_sum = [\n",
    "#     'Instagram actual', 'TikTok actual', 'Youtube actual','FB actual', 'whatsApp actual',\n",
    "#     'LinkedIn actual', 'Twitter actual', \n",
    "#     'Snapchat actual', 'Threads actual', 'Pinterest actual'\n",
    "# ]\n",
    "\n",
    "# # Create a new column 'sum_sm' by summing the specified columns\n",
    "# survey['sum_sm'] = survey[columns_to_sum].sum(axis=1)\n",
    "# survey['sum_sm_top'] = survey[(columns_to_sum[0:2])].sum(axis=1)"
   ]
  },
  {
   "cell_type": "code",
   "execution_count": 11,
   "metadata": {},
   "outputs": [
    {
     "name": "stdout",
     "output_type": "stream",
     "text": [
      "Optimization terminated successfully.\n",
      "         Current function value: 0.996656\n",
      "         Iterations: 19\n",
      "         Function evaluations: 20\n",
      "         Gradient evaluations: 20\n",
      "                             OrderedModel Results                             \n",
      "==============================================================================\n",
      "Dep. Variable:            risk_taking   Log-Likelihood:                -444.51\n",
      "Model:                   OrderedModel   AIC:                             899.0\n",
      "Method:            Maximum Likelihood   BIC:                             919.5\n",
      "Date:                Thu, 17 Oct 2024                                         \n",
      "Time:                        12:41:31                                         \n",
      "No. Observations:                 446                                         \n",
      "Df Residuals:                     441                                         \n",
      "Df Model:                           3                                         \n",
      "======================================================================================\n",
      "                         coef    std err          z      P>|z|      [0.025      0.975]\n",
      "--------------------------------------------------------------------------------------\n",
      "social_media_group     0.1727      0.112      1.548      0.122      -0.046       0.391\n",
      "SEX                   -0.5987      0.188     -3.189      0.001      -0.967      -0.231\n",
      "framing               -0.2228      0.191     -1.165      0.244      -0.598       0.152\n",
      "-1/0                  -1.6277      0.370     -4.395      0.000      -2.354      -0.902\n",
      "0/1                    0.8577      0.059     14.548      0.000       0.742       0.973\n",
      "======================================================================================\n"
     ]
    }
   ],
   "source": [
    "# Prepare data for ordinal logistic regression\n",
    "survey['social_media_group'] = survey['social_media_group'].astype('category').cat.codes\n",
    "X_ordered = survey[['social_media_group', 'SEX','framing']]\n",
    "y = survey['risk_taking']\n",
    "\n",
    "# Fit the ordinal logistic regression model\n",
    "model_ordered = OrderedModel(y, X_ordered, distr='logit')\n",
    "result_ordered = model_ordered.fit(method='bfgs')\n",
    "\n",
    "# Display the summary\n",
    "print(result_ordered.summary())"
   ]
  },
  {
   "cell_type": "code",
   "execution_count": 12,
   "metadata": {},
   "outputs": [
    {
     "name": "stdout",
     "output_type": "stream",
     "text": [
      "Optimization terminated successfully.\n",
      "         Current function value: 0.990270\n",
      "         Iterations 6\n",
      "                          MNLogit Regression Results                          \n",
      "==============================================================================\n",
      "Dep. Variable:            risk_taking   No. Observations:                  446\n",
      "Model:                        MNLogit   Df Residuals:                      438\n",
      "Method:                           MLE   Df Model:                            6\n",
      "Date:                Thu, 17 Oct 2024   Pseudo R-squ.:                 0.02189\n",
      "Time:                        12:41:33   Log-Likelihood:                -441.66\n",
      "converged:                       True   LL-Null:                       -451.54\n",
      "Covariance Type:            nonrobust   LLR p-value:                  0.003047\n",
      "==============================================================================================================\n",
      "                             risk_taking=0       coef    std err          z      P>|z|      [0.025      0.975]\n",
      "--------------------------------------------------------------------------------------------------------------\n",
      "const                                          0.1683      2.098      0.080      0.936      -3.944       4.281\n",
      "time spend on all social media apps actual     0.0023      0.001      2.141      0.032       0.000       0.004\n",
      "SEX                                           -0.5039      0.228     -2.211      0.027      -0.951      -0.057\n",
      "AGE                                            0.0220      0.093      0.236      0.813      -0.161       0.205\n",
      "--------------------------------------------------------------------------------------------------------------\n",
      "                             risk_taking=1       coef    std err          z      P>|z|      [0.025      0.975]\n",
      "--------------------------------------------------------------------------------------------------------------\n",
      "const                                          5.0139      2.914      1.721      0.085      -0.697      10.725\n",
      "time spend on all social media apps actual     0.0018      0.001      1.312      0.190      -0.001       0.005\n",
      "SEX                                           -0.9304      0.295     -3.151      0.002      -1.509      -0.352\n",
      "AGE                                           -0.2185      0.131     -1.668      0.095      -0.475       0.038\n",
      "==============================================================================================================\n"
     ]
    }
   ],
   "source": [
    "# Prepare data\n",
    "survey['social_media_group'] = survey['social_media_group'].astype('category').cat.codes\n",
    "X = survey[['time spend on all social media apps actual', 'SEX','AGE']] #WITH SOCIAL_MEDIA_GROUP BETTER P VALUES AND COEFF\n",
    "y = survey['risk_taking']\n",
    "\n",
    "# Add constant term for the intercept\n",
    "X = sm.add_constant(X)\n",
    "\n",
    "# Fit multinomial logistic regression model\n",
    "mnlogit_model = sm.MNLogit(y, X).fit()\n",
    "print(mnlogit_model.summary())"
   ]
  },
  {
   "cell_type": "code",
   "execution_count": 13,
   "metadata": {},
   "outputs": [
    {
     "name": "stdout",
     "output_type": "stream",
     "text": [
      "Optimization terminated successfully.\n",
      "         Current function value: 0.994556\n",
      "         Iterations: 19\n",
      "         Function evaluations: 24\n",
      "         Gradient evaluations: 24\n",
      "                             OrderedModel Results                             \n",
      "==============================================================================\n",
      "Dep. Variable:            risk_taking   Log-Likelihood:                -443.57\n",
      "Model:                   OrderedModel   AIC:                             897.1\n",
      "Method:            Maximum Likelihood   BIC:                             917.6\n",
      "Date:                Thu, 17 Oct 2024                                         \n",
      "Time:                        12:41:36                                         \n",
      "No. Observations:                 446                                         \n",
      "Df Residuals:                     441                                         \n",
      "Df Model:                           3                                         \n",
      "==============================================================================================================\n",
      "                                                 coef    std err          z      P>|z|      [0.025      0.975]\n",
      "--------------------------------------------------------------------------------------------------------------\n",
      "time spend on all social media apps actual     0.0018      0.001      2.064      0.039    9.21e-05       0.004\n",
      "SEX                                           -0.6131      0.188     -3.265      0.001      -0.981      -0.245\n",
      "framing                                       -0.2288      0.191     -1.197      0.231      -0.603       0.146\n",
      "-1/0                                          -1.3682      0.411     -3.328      0.001      -2.174      -0.562\n",
      "0/1                                            0.8611      0.059     14.591      0.000       0.745       0.977\n",
      "==============================================================================================================\n"
     ]
    }
   ],
   "source": [
    "# Prepare data for ordinal logistic regression\n",
    "survey['social_media_group'] = survey['social_media_group'].astype('category').cat.codes\n",
    "survey['SA'] = survey['AGE'] * survey['framing']\n",
    "X_continuous = survey[['time spend on all social media apps actual','SEX','framing']]\n",
    "y = survey['risk_taking']\n",
    "\n",
    "# Fit the ordinal logistic regression model\n",
    "model_continuous = OrderedModel(y, X_continuous, distr='logit')\n",
    "result_continuous = model_continuous.fit(method='bfgs')\n",
    "\n",
    "# Display the summary\n",
    "print(result_continuous.summary())\n",
    "\n",
    "\n"
   ]
  },
  {
   "cell_type": "code",
   "execution_count": 46,
   "metadata": {},
   "outputs": [
    {
     "name": "stdout",
     "output_type": "stream",
     "text": [
      "Average Marginal Effect for time spend on all social media apps actual: 0.001100960313691645\n"
     ]
    }
   ],
   "source": [
    "# Calculate marginal effects\n",
    "\n",
    "# Choose the variable for which you want to calculate the marginal effect (e.g., 'time spend on all social media apps actual')\n",
    "selected_variable = 'time spend on all social media apps actual'\n",
    "\n",
    "# Step 1: Predict probabilities for each category\n",
    "predicted_probs = result_continuous.predict(X_continuous, which='prob')\n",
    "\n",
    "# Get the coefficient for the selected variable\n",
    "selected_coefficient = result_continuous.params[selected_variable]\n",
    "\n",
    "# Calculate the marginal effects for each observation\n",
    "# Using the formula: predicted_probs * (1 - predicted_probs) * coefficient\n",
    "marginal_effects = np.sum(predicted_probs * (1 - predicted_probs) * selected_coefficient, axis=1)\n",
    "\n",
    "# Compute the average marginal effect across all observations\n",
    "average_marginal_effect = np.mean(marginal_effects)\n",
    "\n",
    "print(f'Average Marginal Effect for {selected_variable}: {average_marginal_effect}')\n",
    "\n"
   ]
  },
  {
   "cell_type": "code",
   "execution_count": 14,
   "metadata": {},
   "outputs": [
    {
     "name": "stdout",
     "output_type": "stream",
     "text": [
      "Optimization terminated successfully.\n",
      "         Current function value: 0.994900\n",
      "         Iterations: 23\n",
      "         Function evaluations: 24\n",
      "         Gradient evaluations: 24\n",
      "                             OrderedModel Results                             \n",
      "==============================================================================\n",
      "Dep. Variable:            risk_taking   Log-Likelihood:                -443.73\n",
      "Model:                   OrderedModel   AIC:                             897.5\n",
      "Method:            Maximum Likelihood   BIC:                             918.0\n",
      "Date:                Thu, 17 Oct 2024                                         \n",
      "Time:                        12:41:43                                         \n",
      "No. Observations:                 446                                         \n",
      "Df Residuals:                     441                                         \n",
      "Df Model:                           3                                         \n",
      "=========================================================================================\n",
      "                            coef    std err          z      P>|z|      [0.025      0.975]\n",
      "-----------------------------------------------------------------------------------------\n",
      "log_social_media_time     0.4360      0.220      1.986      0.047       0.006       0.866\n",
      "SEX                      -0.6114      0.188     -3.256      0.001      -0.979      -0.243\n",
      "framing                  -0.2287      0.191     -1.196      0.232      -0.603       0.146\n",
      "-1/0                      0.5478      1.240      0.442      0.659      -1.883       2.978\n",
      "0/1                       0.8603      0.059     14.585      0.000       0.745       0.976\n",
      "=========================================================================================\n"
     ]
    }
   ],
   "source": [
    "# Prepare data for ordinal logistic regression\n",
    "survey['log_social_media_time'] = np.log(survey['time spend on all social media apps actual'])\n",
    "survey['social_media_group'] = survey['social_media_group'].astype('category').cat.codes\n",
    "survey['SA'] = survey['AGE'] * survey['log_social_media_time']\n",
    "survey['SX'] = survey['SEX'] * survey['log_social_media_time']\n",
    "\n",
    "X_continuous_log = survey[['log_social_media_time','SEX','framing']]\n",
    "y = survey['risk_taking']\n",
    "\n",
    "# Fit the ordinal logistic regression model\n",
    "model_continuous_log = OrderedModel(y, X_continuous_log, distr='logit')\n",
    "result_continuous_log = model_continuous_log.fit(method='bfgs')\n",
    "\n",
    "# Display the summary\n",
    "print(result_continuous_log.summary())\n"
   ]
  },
  {
   "cell_type": "code",
   "execution_count": 23,
   "metadata": {},
   "outputs": [
    {
     "name": "stdout",
     "output_type": "stream",
     "text": [
      "McFadden's R^2: 0.0186\n"
     ]
    }
   ],
   "source": [
    "# Compute log-likelihood for the null model\n",
    "\n",
    "counts = y.value_counts()\n",
    "proportions = counts / len(y)\n",
    "# Log-likelihood of the null model\n",
    "null_ll = np.sum([np.sum(y == k) * np.log(proportions[k]) for k in proportions.index])\n",
    "\n",
    "# Log-likelihood for the fitted model\n",
    "log_likelihood_fitted = result_continuous.llf\n",
    "\n",
    "# Compute McFadden’s R^2\n",
    "mcfadden_r2 = 1 - (log_likelihood_fitted / null_ll)\n",
    "print(f\"McFadden's R^2: {mcfadden_r2:.4f}\")"
   ]
  },
  {
   "cell_type": "code",
   "execution_count": 16,
   "metadata": {},
   "outputs": [
    {
     "name": "stdout",
     "output_type": "stream",
     "text": [
      "Minimum z value: -2.978556770760851\n",
      "Maximum z value: -0.9495180906055238\n"
     ]
    }
   ],
   "source": [
    "\n",
    "# Coefficients from the model\n",
    "coef_time_spent = 0.47\n",
    "coef_sex = -0.476\n",
    "coef_framing = -0.3044\n",
    "coef_age = -0.1659\n",
    "\n",
    "# Extract the relevant columns from the dataframe\n",
    "time_spent = survey['log_social_media_time']\n",
    "sex = survey['SEX']\n",
    "framing = survey['framing']\n",
    "age= survey['AGE']\n",
    "\n",
    "# Compute the latent variable z for each observation\n",
    "z_values = coef_time_spent * time_spent + coef_sex * sex + coef_framing * framing+ age *coef_age\n",
    "\n",
    "# Calculate the minimum and maximum z values\n",
    "min_z = z_values.min()\n",
    "max_z = z_values.max()\n",
    "\n",
    "print(f\"Minimum z value: {min_z}\")\n",
    "print(f\"Maximum z value: {max_z}\")\n"
   ]
  },
  {
   "cell_type": "code",
   "execution_count": 432,
   "metadata": {},
   "outputs": [
    {
     "name": "stdout",
     "output_type": "stream",
     "text": [
      "Optimization terminated successfully.\n",
      "         Current function value: 0.642944\n",
      "         Iterations: 23\n",
      "         Function evaluations: 28\n",
      "         Gradient evaluations: 28\n",
      "                           Logit Regression Results                           \n",
      "==============================================================================\n",
      "Dep. Variable:                framing   No. Observations:                  446\n",
      "Model:                          Logit   Df Residuals:                      442\n",
      "Method:                           MLE   Df Model:                            3\n",
      "Date:                Thu, 15 Aug 2024   Pseudo R-squ.:                0.008853\n",
      "Time:                        16:30:31   Log-Likelihood:                -286.75\n",
      "converged:                       True   LL-Null:                       -289.31\n",
      "Covariance Type:            nonrobust   LLR p-value:                    0.1630\n",
      "==============================================================================================================\n",
      "                                                 coef    std err          z      P>|z|      [0.025      0.975]\n",
      "--------------------------------------------------------------------------------------------------------------\n",
      "const                                         -1.5080      1.945     -0.775      0.438      -5.321       2.305\n",
      "time spend on all social media apps actual     0.0017      0.001      1.776      0.076      -0.000       0.004\n",
      "risk_taking                                   -0.1734      0.145     -1.194      0.232      -0.458       0.111\n",
      "AGE                                            0.0835      0.088      0.950      0.342      -0.089       0.256\n",
      "==============================================================================================================\n"
     ]
    }
   ],
   "source": [
    "# Prepare data for ordinal logistic regression\n",
    "survey['social_media_group'] = survey['social_media_group'].astype('category').cat.codes\n",
    "survey['SA'] = survey['AGE'] * survey['risk_taking']\n",
    "X_continuous_f = survey[['time spend on all social media apps actual','risk_taking','AGE']]\n",
    "y = survey['framing']\n",
    "\n",
    "# Add a constant term to the independent variables\n",
    "X_continuous_f = sm.add_constant(X_continuous_f)\n",
    "\n",
    "# Fit the logistic regression model\n",
    "model_continuous_f = sm.Logit(y, X_continuous_f)\n",
    "result_continuous_f = model_continuous_f.fit(method='bfgs')\n",
    "\n",
    "# Display the summary\n",
    "print(result_continuous_f.summary())"
   ]
  },
  {
   "cell_type": "code",
   "execution_count": 409,
   "metadata": {},
   "outputs": [
    {
     "name": "stdout",
     "output_type": "stream",
     "text": [
      "                 Generalized Linear Model Regression Results                  \n",
      "==============================================================================\n",
      "Dep. Variable:                  sum_r   No. Observations:                  372\n",
      "Model:                            GLM   Df Residuals:                      368\n",
      "Model Family:                 Poisson   Df Model:                            3\n",
      "Link Function:                    Log   Scale:                          1.0000\n",
      "Method:                          IRLS   Log-Likelihood:                -541.73\n",
      "Date:                Thu, 15 Aug 2024   Deviance:                       250.82\n",
      "Time:                        16:24:25   Pearson chi2:                     185.\n",
      "No. Iterations:                     4   Pseudo R-squ. (CS):            0.02025\n",
      "Covariance Type:            nonrobust                                         \n",
      "==============================================================================================================\n",
      "                                                 coef    std err          z      P>|z|      [0.025      0.975]\n",
      "--------------------------------------------------------------------------------------------------------------\n",
      "const                                          1.5886      0.750      2.117      0.034       0.118       3.059\n",
      "time spend on all social media apps actual     0.0005      0.000      1.272      0.203      -0.000       0.001\n",
      "SEX                                           -0.1433      0.079     -1.804      0.071      -0.299       0.012\n",
      "AGE                                           -0.0498      0.034     -1.467      0.142      -0.116       0.017\n",
      "==============================================================================================================\n"
     ]
    }
   ],
   "source": [
    "# Define the predictors and the dependent variable\n",
    "X_continuous = survey[['time spend on all social media apps actual', 'SEX', 'AGE']]\n",
    "y = survey['sum_r']\n",
    "\n",
    "# Add a constant to the predictors (this adds the intercept to the model)\n",
    "X_continuous = sm.add_constant(X_continuous)\n",
    "\n",
    "# Fit the Poisson regression model\n",
    "model_poisson = sm.GLM(y, X_continuous, family=sm.families.Poisson()).fit()\n",
    "\n",
    "# Display the summary\n",
    "print(model_poisson.summary())\n"
   ]
  },
  {
   "cell_type": "code",
   "execution_count": 19,
   "metadata": {},
   "outputs": [
    {
     "name": "stdout",
     "output_type": "stream",
     "text": [
      "Optimization terminated successfully.\n",
      "         Current function value: 0.993709\n",
      "         Iterations: 21\n",
      "         Function evaluations: 25\n",
      "         Gradient evaluations: 25\n",
      "                             OrderedModel Results                             \n",
      "==============================================================================\n",
      "Dep. Variable:            risk_taking   Log-Likelihood:                -442.20\n",
      "Model:                   OrderedModel   AIC:                             894.4\n",
      "Method:            Maximum Likelihood   BIC:                             914.9\n",
      "Date:                Wed, 21 Aug 2024                                         \n",
      "Time:                        06:55:40                                         \n",
      "No. Observations:                 445                                         \n",
      "Df Residuals:                     440                                         \n",
      "Df Model:                           3                                         \n",
      "==============================================================================================================\n",
      "                                                 coef    std err          z      P>|z|      [0.025      0.975]\n",
      "--------------------------------------------------------------------------------------------------------------\n",
      "time spend on all social media apps actual     0.0033      0.001      2.249      0.025       0.000       0.006\n",
      "SEX                                           -0.0067      0.532     -0.013      0.990      -1.049       1.036\n",
      "SA                                            -0.0022      0.002     -1.204      0.229      -0.006       0.001\n",
      "-1/0                                          -0.2032      0.425     -0.478      0.633      -1.036       0.630\n",
      "0/1                                            0.8647      0.059     14.628      0.000       0.749       0.981\n",
      "==============================================================================================================\n"
     ]
    }
   ],
   "source": [
    "# Convert 'SEX' to categorical codes if it's not already\n",
    "survey['SEX'] = survey['SEX'].astype('category').cat.codes\n",
    "survey['sm'] = survey['framing'] * survey['AGE']\n",
    "survey['SA'] = survey['SEX'] * survey['time spend on all social media apps actual']\n",
    "# Prepare the features (X) and the target (y)\n",
    "X = survey[['time spend on all social media apps actual', 'SEX','SA']]\n",
    "y = survey['risk_taking']\n",
    "\n",
    "# Fit the ordinal logistic regression model\n",
    "model_inter = OrderedModel(y, X, distr='logit')\n",
    "result_inter = model_inter.fit(method='bfgs')\n",
    "\n",
    "# Display the summary\n",
    "print(result_inter.summary())"
   ]
  },
  {
   "cell_type": "code",
   "execution_count": 17,
   "metadata": {},
   "outputs": [
    {
     "name": "stdout",
     "output_type": "stream",
     "text": [
      "Ordered Model AIC: 899.017128915693, BIC: 919.5187236757934\n",
      "Continuous Model AIC: 897.1441357502049, BIC: 917.6457305103053\n",
      "Ordered Model Log-Likelihood: -444.5085644578465\n",
      "Continuous Model Log-Likelihood: -443.57206787510245\n",
      "Ordered Model Pseudo R-squared: -0.4378706313363392\n",
      "Continuous Model Pseudo R-squared: -0.43484130627863915\n",
      "Ordered Model Accuracy: 0.23333333333333334\n",
      "Continuous Model Accuracy: 0.2222222222222222\n"
     ]
    }
   ],
   "source": [
    "# Compare models using AIC and BIC\n",
    "print(f\"Ordered Model AIC: {result_ordered.aic}, BIC: {result_ordered.bic}\")\n",
    "print(f\"Continuous Model AIC: {result_continuous.aic}, BIC: {result_continuous.bic}\")\n",
    "\n",
    "# Log-Likelihood comparison\n",
    "print(f\"Ordered Model Log-Likelihood: {result_ordered.llf}\")\n",
    "print(f\"Continuous Model Log-Likelihood: {result_continuous.llf}\")\n",
    "\n",
    "# Pseudo R-squared calculation\n",
    "def pseudo_r2(llf, llf_null):\n",
    "    return 1 - (llf / llf_null)\n",
    "\n",
    "# Use the log-likelihood of the null model for comparison\n",
    "llf_null = np.log(y.value_counts().max() / len(y)) * len(y)  # Log-likelihood of a null model with the most frequent class\n",
    "pseudo_r2_ordered = pseudo_r2(result_ordered.llf, llf_null)\n",
    "pseudo_r2_continuous = pseudo_r2(result_continuous.llf, llf_null)\n",
    "\n",
    "print(f\"Ordered Model Pseudo R-squared: {pseudo_r2_ordered}\")\n",
    "print(f\"Continuous Model Pseudo R-squared: {pseudo_r2_continuous}\")\n",
    "\n",
    "# Train-test split for accuracy comparison\n",
    "X_ordered_train, X_ordered_test, y_train, y_test = train_test_split(X_ordered, y, test_size=0.2, random_state=42)\n",
    "X_continuous_train, X_continuous_test, y_train, y_test = train_test_split(X_continuous, y, test_size=0.2, random_state=42)\n",
    "\n",
    "# Fit models for accuracy evaluation\n",
    "model_ordered_cv = OrderedModel(y_train, X_ordered_train, distr='logit').fit(method='bfgs', disp=False)\n",
    "model_continuous_cv = OrderedModel(y_train, X_continuous_train, distr='logit').fit(method='bfgs', disp=False)\n",
    "\n",
    "# Predict and convert probabilities to class labels\n",
    "def predict_classes(model, X):\n",
    "    # Get predicted probabilities\n",
    "    probs = model.predict(X)\n",
    "    # Convert probabilities to class labels\n",
    "    return np.argmax(probs, axis=1)\n",
    "\n",
    "# Predict and calculate accuracy\n",
    "y_pred_ordered = predict_classes(model_ordered_cv, X_ordered_test)\n",
    "y_pred_continuous = predict_classes(model_continuous_cv, X_continuous_test)\n",
    "accuracy_ordered = accuracy_score(y_test, y_pred_ordered)\n",
    "accuracy_continuous = accuracy_score(y_test, y_pred_continuous)\n",
    "\n",
    "print(f\"Ordered Model Accuracy: {accuracy_ordered}\")\n",
    "print(f\"Continuous Model Accuracy: {accuracy_continuous}\")"
   ]
  },
  {
   "cell_type": "code",
   "execution_count": 434,
   "metadata": {},
   "outputs": [
    {
     "name": "stdout",
     "output_type": "stream",
     "text": [
      "Optimization terminated successfully.\n",
      "         Current function value: 1.068271\n",
      "         Iterations: 28\n",
      "         Function evaluations: 33\n",
      "         Gradient evaluations: 33\n",
      "                             OrderedModel Results                             \n",
      "==============================================================================\n",
      "Dep. Variable:     social_media_group   Log-Likelihood:                -476.45\n",
      "Model:                   OrderedModel   AIC:                             964.9\n",
      "Method:            Maximum Likelihood   BIC:                             989.5\n",
      "Date:                Thu, 15 Aug 2024                                         \n",
      "Time:                        16:31:14                                         \n",
      "No. Observations:                 446                                         \n",
      "Df Residuals:                     440                                         \n",
      "Df Model:                           4                                         \n",
      "===============================================================================\n",
      "                  coef    std err          z      P>|z|      [0.025      0.975]\n",
      "-------------------------------------------------------------------------------\n",
      "risk_taking     0.1580      0.131      1.209      0.227      -0.098       0.414\n",
      "SEX            -0.1499      0.185     -0.808      0.419      -0.513       0.214\n",
      "AGE            -0.1339      0.077     -1.728      0.084      -0.286       0.018\n",
      "framing         0.4205      0.185      2.275      0.023       0.058       0.783\n",
      "0/1            -3.5746      1.693     -2.111      0.035      -6.894      -0.256\n",
      "1/2             0.2607      0.077      3.369      0.001       0.109       0.412\n",
      "===============================================================================\n"
     ]
    }
   ],
   "source": [
    "# Convert 'SEX' to categorical codes \n",
    "survey['SEX'] = survey['SEX'].astype('category').cat.codes\n",
    "survey['gender_sm'] = survey['SEX'] * survey['social_media_group']\n",
    "survey['SA'] = survey['SEX'] * survey['risk_taking']\n",
    "# Prepare the features (X) and the target (y)\n",
    "X = survey[['risk_taking', 'SEX','AGE','framing']]\n",
    "y = survey['social_media_group']\n",
    "\n",
    "# Fit the ordinal logistic regression model\n",
    "model_sm = OrderedModel(y, X, distr='logit')\n",
    "result_sm = model_sm.fit(method='bfgs')\n",
    "\n",
    "# Display the summary\n",
    "print(result_sm.summary())"
   ]
  },
  {
   "cell_type": "code",
   "execution_count": 435,
   "metadata": {},
   "outputs": [
    {
     "name": "stdout",
     "output_type": "stream",
     "text": [
      "                                        OLS Regression Results                                        \n",
      "======================================================================================================\n",
      "Dep. Variable:     time spend on all social media apps actual   R-squared:                       0.019\n",
      "Model:                                                    OLS   Adj. R-squared:                  0.010\n",
      "Method:                                         Least Squares   F-statistic:                     2.100\n",
      "Date:                                        Thu, 15 Aug 2024   Prob (F-statistic):             0.0799\n",
      "Time:                                                16:31:21   Log-Likelihood:                -2701.2\n",
      "No. Observations:                                         446   AIC:                             5412.\n",
      "Df Residuals:                                             441   BIC:                             5433.\n",
      "Df Model:                                                   4                                         \n",
      "Covariance Type:                                    nonrobust                                         \n",
      "===============================================================================\n",
      "                  coef    std err          t      P>|t|      [0.025      0.975]\n",
      "-------------------------------------------------------------------------------\n",
      "const         382.6573     93.379      4.098      0.000     199.135     566.180\n",
      "risk_taking    12.8671      7.262      1.772      0.077      -1.406      27.140\n",
      "SEX             0.9908     10.243      0.097      0.923     -19.141      21.122\n",
      "AGE            -6.3626      4.277     -1.488      0.138     -14.769       2.043\n",
      "framing        18.3125     10.323      1.774      0.077      -1.976      38.601\n",
      "==============================================================================\n",
      "Omnibus:                       24.541   Durbin-Watson:                   2.056\n",
      "Prob(Omnibus):                  0.000   Jarque-Bera (JB):               27.262\n",
      "Skew:                           0.602   Prob(JB):                     1.20e-06\n",
      "Kurtosis:                       3.138   Cond. No.                         412.\n",
      "==============================================================================\n",
      "\n",
      "Notes:\n",
      "[1] Standard Errors assume that the covariance matrix of the errors is correctly specified.\n"
     ]
    }
   ],
   "source": [
    "# Social media as dependant in lienar regression\n",
    "\n",
    "X = survey[['risk_taking', 'SEX','AGE','framing']]\n",
    "y = survey['time spend on all social media apps actual']\n",
    "X = sm.add_constant(X)\n",
    "\n",
    "model = sm.OLS(y, X).fit()\n",
    "print(model.summary())"
   ]
  },
  {
   "cell_type": "code",
   "execution_count": 346,
   "metadata": {},
   "outputs": [
    {
     "name": "stdout",
     "output_type": "stream",
     "text": [
      "Optimization terminated successfully.\n",
      "         Current function value: 1.066838\n",
      "         Iterations: 28\n",
      "         Function evaluations: 33\n",
      "         Gradient evaluations: 33\n",
      "                             OrderedModel Results                             \n",
      "==============================================================================\n",
      "Dep. Variable:     social_media_group   Log-Likelihood:                -477.94\n",
      "Model:                   OrderedModel   AIC:                             967.9\n",
      "Method:            Maximum Likelihood   BIC:                             992.5\n",
      "Date:                Thu, 15 Aug 2024                                         \n",
      "Time:                        11:17:19                                         \n",
      "No. Observations:                 448                                         \n",
      "Df Residuals:                     442                                         \n",
      "Df Model:                           4                                         \n",
      "===============================================================================\n",
      "                  coef    std err          z      P>|z|      [0.025      0.975]\n",
      "-------------------------------------------------------------------------------\n",
      "risk_taking     0.1532      0.131      1.173      0.241      -0.103       0.409\n",
      "SEX            -0.1390      0.185     -0.750      0.453      -0.502       0.224\n",
      "AGE            -0.1409      0.077     -1.822      0.068      -0.293       0.011\n",
      "framing         0.4330      0.185      2.345      0.019       0.071       0.795\n",
      "0/1            -3.7216      1.690     -2.201      0.028      -7.035      -0.408\n",
      "1/2             0.2580      0.077      3.332      0.001       0.106       0.410\n",
      "===============================================================================\n"
     ]
    }
   ],
   "source": [
    "# Convert 'SEX' to categorical codes \n",
    "survey['SEX'] = survey['SEX'].astype('category').cat.codes\n",
    "survey['gender_sm'] = survey['SEX'] * survey['social_media_group']\n",
    "survey['SA'] = survey['SEX'] * survey['risk_taking']\n",
    "# Prepare the features (X) and the target (y)\n",
    "X = survey[['risk_taking', 'SEX','AGE','framing']]\n",
    "y = survey['social_media_group']\n",
    "\n",
    "# Fit the ordinal logistic regression model\n",
    "model_sm = OrderedModel(y, X, distr='logit')\n",
    "result_sm = model_sm.fit(method='bfgs')\n",
    "\n",
    "# Display the summary\n",
    "print(result_sm.summary())"
   ]
  },
  {
   "cell_type": "code",
   "execution_count": 347,
   "metadata": {},
   "outputs": [
    {
     "name": "stdout",
     "output_type": "stream",
     "text": [
      "Baseline Accuracy: 0.4286\n",
      "Model Accuracy: 0.9487\n",
      "Improvement: 0.5201\n",
      "Confusion Matrix:\n",
      "[[ 46  25  51]\n",
      " [ 63  19  52]\n",
      " [118  27  47]]\n",
      "              precision    recall  f1-score   support\n",
      "\n",
      "           0       0.20      0.38      0.26       122\n",
      "           1       0.27      0.14      0.19       134\n",
      "           2       0.31      0.24      0.27       192\n",
      "\n",
      "    accuracy                           0.25       448\n",
      "   macro avg       0.26      0.25      0.24       448\n",
      "weighted avg       0.27      0.25      0.25       448\n",
      "\n"
     ]
    }
   ],
   "source": [
    "baseline_accuracy = y.value_counts().max() / len(y)\n",
    "print(f\"Baseline Accuracy: {baseline_accuracy:.4f}\")\n",
    "print(f\"Model Accuracy: {accuracy:.4f}\")\n",
    "print(f\"Improvement: {accuracy - baseline_accuracy:.4f}\")\n",
    "\n",
    "cm = confusion_matrix(y, y_pred)\n",
    "print(\"Confusion Matrix:\")\n",
    "print(cm)\n",
    "\n",
    "print(classification_report(y, y_pred))"
   ]
  },
  {
   "cell_type": "markdown",
   "metadata": {},
   "source": [
    "model is performing exactly the same as the baseline model, which simply predicts the most common class every time."
   ]
  },
  {
   "cell_type": "code",
   "execution_count": 3,
   "metadata": {},
   "outputs": [
    {
     "data": {
      "image/png": "[encoded data removed]",
      "text/plain": [
       "<Figure size 1000x600 with 1 Axes>"
      ]
     },
     "metadata": {},
     "output_type": "display_data"
    },
    {
     "name": "stdout",
     "output_type": "stream",
     "text": [
      "Skewness: 0.68\n"
     ]
    },
    {
     "data": {
      "image/png": "[encoded data removed]",
      "text/plain": [
       "<Figure size 600x600 with 1 Axes>"
      ]
     },
     "metadata": {},
     "output_type": "display_data"
    }
   ],
   "source": [
    "# 1. Visual Inspection: Histogram\n",
    "plt.figure(figsize=(10, 6))\n",
    "sns.histplot(survey['time spend on all social media apps actual'], kde=True, bins=30)\n",
    "plt.title('Histogram of Time Spent on Social Media')\n",
    "plt.xlabel('Time Spent (Minutes)')\n",
    "plt.ylabel('Frequency')\n",
    "plt.show()\n",
    "\n",
    "# 2. Skewness Statistic\n",
    "skewness_value = skew(survey['time spend on all social media apps actual'])\n",
    "print(f'Skewness: {skewness_value:.2f}')\n",
    "\n",
    "# 3. Normal Q-Q Plot\n",
    "\n",
    "plt.figure(figsize=(6, 6))\n",
    "stats.probplot(survey['time spend on all social media apps actual'], dist=\"norm\", plot=plt)\n",
    "plt.title('Normal Q-Q Plot')\n",
    "plt.show()"
   ]
  }
 ],
 "metadata": {
  "kernelspec": {
   "display_name": "base",
   "language": "python",
   "name": "python3"
  },
  "language_info": {
   "codemirror_mode": {
    "name": "ipython",
    "version": 3
   },
   "file_extension": ".py",
   "mimetype": "text/x-python",
   "name": "python",
   "nbconvert_exporter": "python",
   "pygments_lexer": "ipython3",
   "version": "3.12.4"
  }
 },
 "nbformat": 4,
 "nbformat_minor": 2
}
