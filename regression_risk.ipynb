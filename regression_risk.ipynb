{
 "cells": [
  {
   "cell_type": "code",
   "execution_count": 45,
   "metadata": {},
   "outputs": [],
   "source": [
    "import os\n",
    "os.getcwd()\n",
    "import pandas as pd\n",
    "import numpy as np\n",
    "from scipy import stats \n",
    "import matplotlib.pyplot as plt\n",
    "import seaborn as sns\n",
    "import statsmodels.api as sm\n",
    "from statsmodels.formula.api import ols\n",
    "from scipy.stats import chi2_contingency\n",
    "from scipy.stats import ttest_ind, pearsonr\n",
    "from statsmodels.miscmodels.ordinal_model import OrderedModel\n",
    "\n",
    "survey = pd.read_excel(\"survey.xlsx\")\n",
    "survey=survey[survey['included']==1]"
   ]
  },
  {
   "cell_type": "code",
   "execution_count": 47,
   "metadata": {},
   "outputs": [
    {
     "name": "stdout",
     "output_type": "stream",
     "text": [
      "Number of outliers detected: 76\n",
      "   included   IDkoda  not equal            t_insert              t_edit  \\\n",
      "5         1  487grfa          0 2024-05-29 10:13:01 2024-05-29 10:21:04   \n",
      "6         1  731gkam          0 2024-05-29 10:13:02 2024-05-29 10:20:05   \n",
      "7         1   705fml          0 2024-05-29 10:13:03 2024-05-29 10:22:24   \n",
      "8         1  67bemf5          0 2024-05-29 10:13:04 2024-05-29 10:22:02   \n",
      "9         1  001mgan          1 2024-05-29 10:13:05 2024-05-29 10:23:43   \n",
      "\n",
      "   status  SEX  AGE   Q2   Q3  ...  FB actual  whatsApp actual  \\\n",
      "5       6    2   23  0.0  0.0  ...         23                0   \n",
      "6       6    2   22  0.0  0.0  ...          0                0   \n",
      "7       6    2   22  0.0  0.0  ...         21                0   \n",
      "8       6    1   22  0.0  0.0  ...         57                0   \n",
      "9       6    2   22  0.0  0.0  ...         26                4   \n",
      "\n",
      "   LinkedIn actual  Twitter actual  Youtube actual  Snapchat actual  \\\n",
      "5                0               0               0                0   \n",
      "6                0               0               0                0   \n",
      "7                1               0              16               40   \n",
      "8                0               0              64                0   \n",
      "9                0               0              60              166   \n",
      "\n",
      "   Threads actual  Pinterest actual  other actual  outliers  \n",
      "5               0                 0             0         0  \n",
      "6               0                 0             0         0  \n",
      "7               0                16             0         0  \n",
      "8               0                 0             0         0  \n",
      "9               0                 0            60         0  \n",
      "\n",
      "[5 rows x 44 columns]\n"
     ]
    }
   ],
   "source": [
    "columns_to_check_time = [\n",
    "       'time spend on all social media apps actual', 'Instagram actual',\n",
    "       'TikTok actual', 'FB actual', 'whatsApp actual', 'LinkedIn actual',\n",
    "       'Twitter actual', 'Youtube actual', 'Snapchat actual', 'Threads actual',\n",
    "       'Pinterest actual', 'other actual']\n",
    "\n",
    "# Calculate Z-score for the selected columns\n",
    "z_scores_time = np.abs(stats.zscore(survey[columns_to_check_time]))\n",
    "\n",
    "# Define a threshold for outliers (e.g., z-score > 3)\n",
    "threshold = 3\n",
    "\n",
    "# Create a mask to filter out rows with outliers in any of the selected columns\n",
    "outlier_mask_time = (z_scores_time > threshold).any(axis=1)\n",
    "\n",
    "# Filter out rows with outliers\n",
    "df_cleaned = survey[~outlier_mask_time]\n",
    "df_cleaned = df_cleaned.reset_index(drop=True)\n",
    "\n",
    "# Initialize the 'outliers' column to 0\n",
    "survey['outliers'] = 0\n",
    "\n",
    "# Update the 'outliers' column in the original DataFrame based on the filtered DataFrame's outlier_mask\n",
    "survey.loc[survey.index, 'outliers'] = np.where(outlier_mask_time, 1, 0)\n",
    "\n",
    "# print the number of outliers detected\n",
    "num_outliers = outlier_mask_time.sum()\n",
    "print(f'Number of outliers detected: {num_outliers}')\n",
    "\n",
    "# Display the DataFrame to verify\n",
    "print(survey.head())"
   ]
  },
  {
   "cell_type": "code",
   "execution_count": 260,
   "metadata": {},
   "outputs": [],
   "source": [
    "# transforming risk taking outcomes into just one variable for lotteries, to see if we find some siginifcant resutls\n",
    "# Create a risk-taking variable\n",
    "lotteries = ['Q2','Q3','Q4','Q5']\n",
    "def classify_risk_taking(row):\n",
    "    num_risky = sum(row[col] == 1 for col in lotteries)\n",
    "    num_safe = sum(row[col] == 0 for col in lotteries)\n",
    "    if num_risky > num_safe:\n",
    "        return 1  # Risk-taking\n",
    "    elif num_safe > num_risky:\n",
    "        return 2   # Risk-averse\n",
    "    else:\n",
    "        return 0   # Neutral\n",
    "\n",
    "survey['risk_taking'] = survey.apply(classify_risk_taking, axis=1)\n",
    "\n",
    "survey['sum_r'] = survey[lotteries].sum(axis=1)\n",
    "\n",
    "# Risk-taking framing effect from scenarios \n",
    "scenarios_columns = [ 'Q8', 'Q9', 'Q7a', 'Q7b']\n",
    "def classify_framing(row):\n",
    "    num_risky = sum(row[col] == 1 for col in scenarios_columns)\n",
    "    num_safe = sum(row[col] == 0 for col in scenarios_columns)\n",
    "    if num_risky == 2:\n",
    "        return 0  \n",
    "    elif num_safe == 2:\n",
    "        return 0   \n",
    "    else:\n",
    "        return 1   \n",
    "    \n",
    "    \n",
    "survey['framing'] = survey.apply(classify_framing, axis=1)"
   ]
  },
  {
   "cell_type": "code",
   "execution_count": 50,
   "metadata": {},
   "outputs": [
    {
     "data": {
      "image/png": "[encoded data removed]",
      "text/plain": [
       "<Figure size 640x480 with 1 Axes>"
      ]
     },
     "metadata": {},
     "output_type": "display_data"
    },
    {
     "name": "stdout",
     "output_type": "stream",
     "text": [
      "Chi-square statistic: 9.858882991080096, p-value: 0.042873066537729224\n"
     ]
    }
   ],
   "source": [
    "# Create the histogram\n",
    "plt.hist(survey['time spend on all social media apps actual'], bins=30, edgecolor='black')\n",
    "plt.title('Distribution Histogram')\n",
    "plt.xlabel('Value')\n",
    "plt.ylabel('Frequency')\n",
    "plt.show()\n",
    "\n",
    "# Define percentiles\n",
    "tercile1 = survey['time spend on all social media apps actual'].quantile(0.33)\n",
    "tercile2 = survey['time spend on all social media apps actual'].quantile(0.66)\n",
    "\n",
    "# Create the new variable\n",
    "def categorize_usage(minutes):\n",
    "    if minutes <= tercile1:\n",
    "        return 0\n",
    "    elif minutes <= tercile2:\n",
    "        return 1\n",
    "    else:\n",
    "        return 2\n",
    "\n",
    "survey['social_media_group'] = survey['time spend on all social media apps actual'].apply(categorize_usage)\n",
    "# Create contingency table for risk-taking and social media usage\n",
    "contingency_table = pd.crosstab(survey['risk_taking'], survey['social_media_group'])\n",
    "\n",
    "# Perform Chi-square test\n",
    "chi2, p, _, _ = chi2_contingency(contingency_table)\n",
    "print(f\"Chi-square statistic: {chi2}, p-value: {p}\")\n"
   ]
  },
  {
   "cell_type": "code",
   "execution_count": 52,
   "metadata": {},
   "outputs": [
    {
     "name": "stdout",
     "output_type": "stream",
     "text": [
      "Chi-square statistic: 2.990143490117569, p-value: 0.2242325165783362\n"
     ]
    }
   ],
   "source": [
    "# Create contingency table for framing risk-taking and social media usage\n",
    "contingency_framing_table = pd.crosstab(survey['framing'], survey['social_media_group'])\n",
    "\n",
    "# Perform Chi-square test\n",
    "chi2, p, _, _ = chi2_contingency(contingency_framing_table)\n",
    "print(f\"Chi-square statistic: {chi2}, p-value: {p}\")"
   ]
  },
  {
   "cell_type": "code",
   "execution_count": 256,
   "metadata": {},
   "outputs": [
    {
     "name": "stdout",
     "output_type": "stream",
     "text": [
      "Optimization terminated successfully.\n",
      "         Current function value: 0.995299\n",
      "         Iterations: 24\n",
      "         Function evaluations: 28\n",
      "         Gradient evaluations: 28\n",
      "                             OrderedModel Results                             \n",
      "==============================================================================\n",
      "Dep. Variable:            risk_taking   Log-Likelihood:                -445.89\n",
      "Model:                   OrderedModel   AIC:                             901.8\n",
      "Method:            Maximum Likelihood   BIC:                             922.3\n",
      "Date:                Wed, 14 Aug 2024                                         \n",
      "Time:                        15:25:27                                         \n",
      "No. Observations:                 448                                         \n",
      "Df Residuals:                     443                                         \n",
      "Df Model:                           3                                         \n",
      "======================================================================================\n",
      "                         coef    std err          z      P>|z|      [0.025      0.975]\n",
      "--------------------------------------------------------------------------------------\n",
      "social_media_group    -0.3702      0.110     -3.352      0.001      -0.587      -0.154\n",
      "SEX                    0.3085      0.186      1.659      0.097      -0.056       0.673\n",
      "AGE                   -0.0635      0.080     -0.798      0.425      -0.219       0.092\n",
      "0/1                   -1.6071      1.736     -0.926      0.355      -5.011       1.796\n",
      "1/2                   -0.3328      0.108     -3.094      0.002      -0.544      -0.122\n",
      "======================================================================================\n"
     ]
    }
   ],
   "source": [
    "# Prepare data for ordinal logistic regression\n",
    "survey['social_media_group'] = survey['social_media_group'].astype('category').cat.codes\n",
    "X = survey[['social_media_group', 'SEX', 'AGE']]\n",
    "y = survey['risk_taking']\n",
    "\n",
    "# Fit the ordinal logistic regression model\n",
    "model_TERCILE = OrderedModel(y, X, distr='logit')\n",
    "result_TERCILE = model_TERCILE.fit(method='bfgs')\n",
    "\n",
    "# Display the summary\n",
    "print(result_TERCILE.summary())"
   ]
  },
  {
   "cell_type": "code",
   "execution_count": 55,
   "metadata": {},
   "outputs": [
    {
     "name": "stdout",
     "output_type": "stream",
     "text": [
      "Chi-square statistic: 12.862075846105958, p-value: 0.011969753167733124\n"
     ]
    }
   ],
   "source": [
    "# Create the new variable\n",
    "def categorize_usage(minutes):\n",
    "    if minutes <= 200: #190,150\n",
    "        return 0\n",
    "    elif minutes <= 270: #270\n",
    "        return 1\n",
    "    else:\n",
    "        return 2\n",
    "\n",
    "survey['social_media_group'] = survey['time spend on all social media apps actual'].apply(categorize_usage)\n",
    "# Create contingency table for risk-taking and social media usage\n",
    "contingency_table = pd.crosstab(survey['risk_taking'], survey['social_media_group'])\n",
    "\n",
    "# Perform Chi-square test\n",
    "chi2, p, _, _ = chi2_contingency(contingency_table)\n",
    "print(f\"Chi-square statistic: {chi2}, p-value: {p}\")\n",
    "\n"
   ]
  },
  {
   "cell_type": "code",
   "execution_count": 84,
   "metadata": {},
   "outputs": [
    {
     "name": "stdout",
     "output_type": "stream",
     "text": [
      "Optimization terminated successfully.\n",
      "         Current function value: 0.995299\n",
      "         Iterations: 24\n",
      "         Function evaluations: 28\n",
      "         Gradient evaluations: 28\n",
      "                             OrderedModel Results                             \n",
      "==============================================================================\n",
      "Dep. Variable:            risk_taking   Log-Likelihood:                -445.89\n",
      "Model:                   OrderedModel   AIC:                             901.8\n",
      "Method:            Maximum Likelihood   BIC:                             922.3\n",
      "Date:                Thu, 08 Aug 2024                                         \n",
      "Time:                        11:23:32                                         \n",
      "No. Observations:                 448                                         \n",
      "Df Residuals:                     443                                         \n",
      "Df Model:                           3                                         \n",
      "======================================================================================\n",
      "                         coef    std err          z      P>|z|      [0.025      0.975]\n",
      "--------------------------------------------------------------------------------------\n",
      "social_media_group    -0.3702      0.110     -3.352      0.001      -0.587      -0.154\n",
      "SEX                    0.3085      0.186      1.659      0.097      -0.056       0.673\n",
      "AGE                   -0.0635      0.080     -0.798      0.425      -0.219       0.092\n",
      "0/1                   -1.6071      1.736     -0.926      0.355      -5.011       1.796\n",
      "1/2                   -0.3328      0.108     -3.094      0.002      -0.544      -0.122\n",
      "======================================================================================\n"
     ]
    }
   ],
   "source": [
    "# Prepare data for ordinal logistic regression\n",
    "survey['social_media_group'] = survey['social_media_group'].astype('category').cat.codes\n",
    "X_ordered = survey[['social_media_group', 'SEX','AGE']]\n",
    "y = survey['risk_taking']\n",
    "\n",
    "# Fit the ordinal logistic regression model\n",
    "model_ordered = OrderedModel(y, X_ordered, distr='logit')\n",
    "result_ordered = model_ordered.fit(method='bfgs')\n",
    "\n",
    "# Display the summary\n",
    "print(result_ordered.summary())"
   ]
  },
  {
   "cell_type": "code",
   "execution_count": 253,
   "metadata": {},
   "outputs": [
    {
     "name": "stdout",
     "output_type": "stream",
     "text": [
      "Optimization terminated successfully.\n",
      "         Current function value: 0.990214\n",
      "         Iterations 6\n",
      "                          MNLogit Regression Results                          \n",
      "==============================================================================\n",
      "Dep. Variable:            risk_taking   No. Observations:                  448\n",
      "Model:                        MNLogit   Df Residuals:                      440\n",
      "Method:                           MLE   Df Model:                            6\n",
      "Date:                Wed, 14 Aug 2024   Pseudo R-squ.:                 0.02145\n",
      "Time:                        15:11:02   Log-Likelihood:                -443.62\n",
      "converged:                       True   LL-Null:                       -453.34\n",
      "Covariance Type:            nonrobust   LLR p-value:                  0.003472\n",
      "==============================================================================================================\n",
      "                             risk_taking=1       coef    std err          z      P>|z|      [0.025      0.975]\n",
      "--------------------------------------------------------------------------------------------------------------\n",
      "const                                          4.4571      2.687      1.659      0.097      -0.809       9.723\n",
      "time spend on all social media apps actual    -0.0005      0.001     -0.431      0.667      -0.003       0.002\n",
      "SEX                                           -0.4341      0.270     -1.610      0.107      -0.963       0.094\n",
      "AGE                                           -0.2406      0.122     -1.965      0.049      -0.481      -0.001\n",
      "--------------------------------------------------------------------------------------------------------------\n",
      "                             risk_taking=2       coef    std err          z      P>|z|      [0.025      0.975]\n",
      "--------------------------------------------------------------------------------------------------------------\n",
      "const                                          0.4574      2.061      0.222      0.824      -3.583       4.498\n",
      "time spend on all social media apps actual    -0.0021      0.001     -2.063      0.039      -0.004      -0.000\n",
      "SEX                                            0.5095      0.228      2.239      0.025       0.064       0.955\n",
      "AGE                                           -0.0293      0.093     -0.315      0.753      -0.212       0.153\n",
      "==============================================================================================================\n"
     ]
    }
   ],
   "source": [
    "# Prepare data\n",
    "survey['social_media_group'] = survey['social_media_group'].astype('category').cat.codes\n",
    "X = survey[['time spend on all social media apps actual', 'SEX','AGE']] #WITH SOCIAL_MEDIA_GROUP BETTER P VALUES AND COEFF\n",
    "y = survey['risk_taking']\n",
    "\n",
    "# Add constant term for the intercept\n",
    "X = sm.add_constant(X)\n",
    "\n",
    "# Fit multinomial logistic regression model\n",
    "mnlogit_model = sm.MNLogit(y, X).fit()\n",
    "print(mnlogit_model.summary())"
   ]
  },
  {
   "cell_type": "code",
   "execution_count": 257,
   "metadata": {},
   "outputs": [
    {
     "name": "stdout",
     "output_type": "stream",
     "text": [
      "Log-likelihood null model: -310.5299\n",
      "Log-likelihood full model: -472.8270\n",
      "Likelihood Ratio Test:\n",
      "LR test statistic: -324.5942\n",
      "Degrees of freedom: 5\n",
      "p-value: 1.0000\n",
      "McFadden's R-squared: -0.5226\n",
      "\n",
      "Full Model:\n",
      "AIC: 957.6541\n",
      "BIC: 982.2828\n"
     ]
    },
    {
     "ename": "KeyError",
     "evalue": "\"['0/1', '1/2'] not in index\"",
     "output_type": "error",
     "traceback": [
      "\u001b[0;31m---------------------------------------------------------------------------\u001b[0m",
      "\u001b[0;31mKeyError\u001b[0m                                  Traceback (most recent call last)",
      "Cell \u001b[0;32mIn[257], line 48\u001b[0m\n\u001b[1;32m     44\u001b[0m \u001b[38;5;28mprint\u001b[39m(\u001b[38;5;124mf\u001b[39m\u001b[38;5;124m\"\u001b[39m\u001b[38;5;124mBIC: \u001b[39m\u001b[38;5;132;01m{\u001b[39;00mbic_full\u001b[38;5;132;01m:\u001b[39;00m\u001b[38;5;124m.4f\u001b[39m\u001b[38;5;132;01m}\u001b[39;00m\u001b[38;5;124m\"\u001b[39m)\n\u001b[1;32m     46\u001b[0m \u001b[38;5;66;03m# Calculate predicted probabilities for the full model\u001b[39;00m\n\u001b[1;32m     47\u001b[0m \u001b[38;5;66;03m# Use the same variables and order as in the original model\u001b[39;00m\n\u001b[0;32m---> 48\u001b[0m X_pred \u001b[38;5;241m=\u001b[39m survey[result_sm\u001b[38;5;241m.\u001b[39mmodel\u001b[38;5;241m.\u001b[39mexog_names]\n\u001b[1;32m     49\u001b[0m probs \u001b[38;5;241m=\u001b[39m result_sm\u001b[38;5;241m.\u001b[39mpredict(X_pred)\n\u001b[1;32m     51\u001b[0m \u001b[38;5;66;03m# Convert probabilities to class predictions\u001b[39;00m\n",
      "File \u001b[0;32m/opt/anaconda3/lib/python3.12/site-packages/pandas/core/frame.py:4108\u001b[0m, in \u001b[0;36mDataFrame.__getitem__\u001b[0;34m(self, key)\u001b[0m\n\u001b[1;32m   4106\u001b[0m     \u001b[38;5;28;01mif\u001b[39;00m is_iterator(key):\n\u001b[1;32m   4107\u001b[0m         key \u001b[38;5;241m=\u001b[39m \u001b[38;5;28mlist\u001b[39m(key)\n\u001b[0;32m-> 4108\u001b[0m     indexer \u001b[38;5;241m=\u001b[39m \u001b[38;5;28mself\u001b[39m\u001b[38;5;241m.\u001b[39mcolumns\u001b[38;5;241m.\u001b[39m_get_indexer_strict(key, \u001b[38;5;124m\"\u001b[39m\u001b[38;5;124mcolumns\u001b[39m\u001b[38;5;124m\"\u001b[39m)[\u001b[38;5;241m1\u001b[39m]\n\u001b[1;32m   4110\u001b[0m \u001b[38;5;66;03m# take() does not accept boolean indexers\u001b[39;00m\n\u001b[1;32m   4111\u001b[0m \u001b[38;5;28;01mif\u001b[39;00m \u001b[38;5;28mgetattr\u001b[39m(indexer, \u001b[38;5;124m\"\u001b[39m\u001b[38;5;124mdtype\u001b[39m\u001b[38;5;124m\"\u001b[39m, \u001b[38;5;28;01mNone\u001b[39;00m) \u001b[38;5;241m==\u001b[39m \u001b[38;5;28mbool\u001b[39m:\n",
      "File \u001b[0;32m/opt/anaconda3/lib/python3.12/site-packages/pandas/core/indexes/base.py:6200\u001b[0m, in \u001b[0;36mIndex._get_indexer_strict\u001b[0;34m(self, key, axis_name)\u001b[0m\n\u001b[1;32m   6197\u001b[0m \u001b[38;5;28;01melse\u001b[39;00m:\n\u001b[1;32m   6198\u001b[0m     keyarr, indexer, new_indexer \u001b[38;5;241m=\u001b[39m \u001b[38;5;28mself\u001b[39m\u001b[38;5;241m.\u001b[39m_reindex_non_unique(keyarr)\n\u001b[0;32m-> 6200\u001b[0m \u001b[38;5;28mself\u001b[39m\u001b[38;5;241m.\u001b[39m_raise_if_missing(keyarr, indexer, axis_name)\n\u001b[1;32m   6202\u001b[0m keyarr \u001b[38;5;241m=\u001b[39m \u001b[38;5;28mself\u001b[39m\u001b[38;5;241m.\u001b[39mtake(indexer)\n\u001b[1;32m   6203\u001b[0m \u001b[38;5;28;01mif\u001b[39;00m \u001b[38;5;28misinstance\u001b[39m(key, Index):\n\u001b[1;32m   6204\u001b[0m     \u001b[38;5;66;03m# GH 42790 - Preserve name from an Index\u001b[39;00m\n",
      "File \u001b[0;32m/opt/anaconda3/lib/python3.12/site-packages/pandas/core/indexes/base.py:6252\u001b[0m, in \u001b[0;36mIndex._raise_if_missing\u001b[0;34m(self, key, indexer, axis_name)\u001b[0m\n\u001b[1;32m   6249\u001b[0m     \u001b[38;5;28;01mraise\u001b[39;00m \u001b[38;5;167;01mKeyError\u001b[39;00m(\u001b[38;5;124mf\u001b[39m\u001b[38;5;124m\"\u001b[39m\u001b[38;5;124mNone of [\u001b[39m\u001b[38;5;132;01m{\u001b[39;00mkey\u001b[38;5;132;01m}\u001b[39;00m\u001b[38;5;124m] are in the [\u001b[39m\u001b[38;5;132;01m{\u001b[39;00maxis_name\u001b[38;5;132;01m}\u001b[39;00m\u001b[38;5;124m]\u001b[39m\u001b[38;5;124m\"\u001b[39m)\n\u001b[1;32m   6251\u001b[0m not_found \u001b[38;5;241m=\u001b[39m \u001b[38;5;28mlist\u001b[39m(ensure_index(key)[missing_mask\u001b[38;5;241m.\u001b[39mnonzero()[\u001b[38;5;241m0\u001b[39m]]\u001b[38;5;241m.\u001b[39munique())\n\u001b[0;32m-> 6252\u001b[0m \u001b[38;5;28;01mraise\u001b[39;00m \u001b[38;5;167;01mKeyError\u001b[39;00m(\u001b[38;5;124mf\u001b[39m\u001b[38;5;124m\"\u001b[39m\u001b[38;5;132;01m{\u001b[39;00mnot_found\u001b[38;5;132;01m}\u001b[39;00m\u001b[38;5;124m not in index\u001b[39m\u001b[38;5;124m\"\u001b[39m)\n",
      "\u001b[0;31mKeyError\u001b[0m: \"['0/1', '1/2'] not in index\""
     ]
    }
   ],
   "source": [
    "import numpy as np\n",
    "import pandas as pd\n",
    "from statsmodels.miscmodels.ordinal_model import OrderedModel\n",
    "import scipy.stats\n",
    "\n",
    "# Assuming your current model is stored in 'result_sm'\n",
    "# and your data is in a DataFrame called 'survey'\n",
    "\n",
    "# Create a null model by always predicting the most common class\n",
    "y = survey['risk_taking']\n",
    "most_common_class = y.mode()[0]\n",
    "y_pred_null = pd.Series([most_common_class] * len(y), index=y.index)\n",
    "\n",
    "# Calculate log-likelihood for the null model\n",
    "prob_most_common = (y == most_common_class).mean()\n",
    "ll_null = len(y) * np.log(prob_most_common)\n",
    "\n",
    "# Extract log-likelihood for the full model\n",
    "ll_full = result_sm.llf\n",
    "\n",
    "print(f\"Log-likelihood null model: {ll_null:.4f}\")\n",
    "print(f\"Log-likelihood full model: {ll_full:.4f}\")\n",
    "\n",
    "# Likelihood Ratio Test\n",
    "lr_statistic = -2 * (ll_null - ll_full)\n",
    "df = len(result_sm.params) - 1  # Subtracting 1 for the implicit intercept in the null model\n",
    "p_value = scipy.stats.chi2.sf(lr_statistic, df)\n",
    "\n",
    "print(f\"Likelihood Ratio Test:\")\n",
    "print(f\"LR test statistic: {lr_statistic:.4f}\")\n",
    "print(f\"Degrees of freedom: {df}\")\n",
    "print(f\"p-value: {p_value:.4f}\")\n",
    "\n",
    "# McFadden's R-squared\n",
    "mcfadden_r2 = 1 - (ll_full / ll_null)\n",
    "print(f\"McFadden's R-squared: {mcfadden_r2:.4f}\")\n",
    "\n",
    "# Calculate AIC and BIC for the full model\n",
    "aic_full = result_sm.aic\n",
    "bic_full = result_sm.bic\n",
    "\n",
    "print(f\"\\nFull Model:\")\n",
    "print(f\"AIC: {aic_full:.4f}\")\n",
    "print(f\"BIC: {bic_full:.4f}\")\n",
    "\n",
    "# Calculate predicted probabilities for the full model\n",
    "# Use the same variables and order as in the original model\n",
    "X_pred = survey[result_sm.model.exog_names]\n",
    "probs = result_sm.predict(X_pred)\n",
    "\n",
    "# Convert probabilities to class predictions\n",
    "y_pred_full = probs.idxmax(axis=1)\n",
    "\n",
    "# Calculate accuracy for both models\n",
    "accuracy_null = (y == y_pred_null).mean()\n",
    "accuracy_full = (y == y_pred_full).mean()\n",
    "\n",
    "print(f\"\\nNull Model Accuracy (Baseline): {accuracy_null:.4f}\")\n",
    "print(f\"Full Model Accuracy: {accuracy_full:.4f}\")\n",
    "print(f\"Improvement over baseline: {accuracy_full - accuracy_null:.4f}\")"
   ]
  },
  {
   "cell_type": "code",
   "execution_count": 258,
   "metadata": {},
   "outputs": [
    {
     "name": "stdout",
     "output_type": "stream",
     "text": [
      "Optimization terminated successfully.\n",
      "         Current function value: 1.003647\n",
      "         Iterations: 29\n",
      "         Function evaluations: 33\n",
      "         Gradient evaluations: 33\n",
      "                             OrderedModel Results                             \n",
      "==============================================================================\n",
      "Dep. Variable:            risk_taking   Log-Likelihood:                -449.63\n",
      "Model:                   OrderedModel   AIC:                             909.3\n",
      "Method:            Maximum Likelihood   BIC:                             929.8\n",
      "Date:                Wed, 14 Aug 2024                                         \n",
      "Time:                        15:26:23                                         \n",
      "No. Observations:                 448                                         \n",
      "Df Residuals:                     443                                         \n",
      "Df Model:                           3                                         \n",
      "==============================================================================================================\n",
      "                                                 coef    std err          z      P>|z|      [0.025      0.975]\n",
      "--------------------------------------------------------------------------------------------------------------\n",
      "time spend on all social media apps actual    -0.0017      0.001     -1.953      0.051      -0.003    5.87e-06\n",
      "SEX                                            0.3280      0.185      1.774      0.076      -0.034       0.690\n",
      "AGE                                           -0.0535      0.079     -0.678      0.498      -0.208       0.101\n",
      "0/1                                           -1.4065      1.748     -0.805      0.421      -4.832       2.019\n",
      "1/2                                           -0.3472      0.108     -3.229      0.001      -0.558      -0.136\n",
      "==============================================================================================================\n"
     ]
    }
   ],
   "source": [
    "# Prepare data for ordinal logistic regression\n",
    "survey['social_media_group'] = survey['social_media_group'].astype('category').cat.codes\n",
    "survey['SA'] = survey['time spend on all social media apps actual'] * survey['AGE']\n",
    "X_continuous = survey[['time spend on all social media apps actual', 'SEX','AGE']]\n",
    "y = survey['risk_taking']\n",
    "\n",
    "# Fit the ordinal logistic regression model\n",
    "model_continuous = OrderedModel(y, X_continuous, distr='logit')\n",
    "result_continuous = model_continuous.fit(method='bfgs')\n",
    "\n",
    "# Display the summary\n",
    "print(result_continuous.summary())\n"
   ]
  },
  {
   "cell_type": "code",
   "execution_count": 263,
   "metadata": {},
   "outputs": [
    {
     "name": "stdout",
     "output_type": "stream",
     "text": [
      "                 Generalized Linear Model Regression Results                  \n",
      "==============================================================================\n",
      "Dep. Variable:                  sum_r   No. Observations:                  448\n",
      "Model:                            GLM   Df Residuals:                      444\n",
      "Model Family:                 Poisson   Df Model:                            3\n",
      "Link Function:                    Log   Scale:                          1.0000\n",
      "Method:                          IRLS   Log-Likelihood:                -651.51\n",
      "Date:                Wed, 14 Aug 2024   Deviance:                       303.60\n",
      "Time:                        15:36:47   Pearson chi2:                     223.\n",
      "No. Iterations:                     4   Pseudo R-squ. (CS):            0.01859\n",
      "Covariance Type:            nonrobust                                         \n",
      "==============================================================================================================\n",
      "                                                 coef    std err          z      P>|z|      [0.025      0.975]\n",
      "--------------------------------------------------------------------------------------------------------------\n",
      "const                                          1.2023      0.691      1.740      0.082      -0.152       2.556\n",
      "time spend on all social media apps actual     0.0004      0.000      1.109      0.268      -0.000       0.001\n",
      "SEX                                           -0.1813      0.072     -2.501      0.012      -0.323      -0.039\n",
      "AGE                                           -0.0298      0.031     -0.951      0.342      -0.091       0.032\n",
      "==============================================================================================================\n"
     ]
    }
   ],
   "source": [
    "import statsmodels.api as sm\n",
    "\n",
    "# Define the predictors and the dependent variable\n",
    "X_continuous = survey[['time spend on all social media apps actual', 'SEX', 'AGE']]\n",
    "y = survey['sum_r']\n",
    "\n",
    "# Add a constant to the predictors (this adds the intercept to the model)\n",
    "X_continuous = sm.add_constant(X_continuous)\n",
    "\n",
    "# Fit the Poisson regression model\n",
    "model_poisson = sm.GLM(y, X_continuous, family=sm.families.Poisson()).fit()\n",
    "\n",
    "# Display the summary\n",
    "print(model_poisson.summary())\n"
   ]
  },
  {
   "cell_type": "code",
   "execution_count": 264,
   "metadata": {},
   "outputs": [
    {
     "name": "stdout",
     "output_type": "stream",
     "text": [
      "Optimization terminated successfully.\n",
      "         Current function value: 0.994273\n",
      "         Iterations: 18\n",
      "         Function evaluations: 22\n",
      "         Gradient evaluations: 22\n",
      "                             OrderedModel Results                             \n",
      "==============================================================================\n",
      "Dep. Variable:            risk_taking   Log-Likelihood:                -445.43\n",
      "Model:                   OrderedModel   AIC:                             900.9\n",
      "Method:            Maximum Likelihood   BIC:                             921.4\n",
      "Date:                Wed, 14 Aug 2024                                         \n",
      "Time:                        15:37:44                                         \n",
      "No. Observations:                 448                                         \n",
      "Df Residuals:                     443                                         \n",
      "Df Model:                           3                                         \n",
      "======================================================================================\n",
      "                         coef    std err          z      P>|z|      [0.025      0.975]\n",
      "--------------------------------------------------------------------------------------\n",
      "social_media_group    -0.3482      0.110     -3.153      0.002      -0.565      -0.132\n",
      "SEX                    0.4157      0.204      2.036      0.042       0.016       0.816\n",
      "SA                    -0.0013      0.001     -1.232      0.218      -0.003       0.001\n",
      "0/1                   -0.2150      0.196     -1.098      0.272      -0.599       0.169\n",
      "1/2                   -0.3311      0.108     -3.078      0.002      -0.542      -0.120\n",
      "======================================================================================\n"
     ]
    }
   ],
   "source": [
    "# Convert 'SEX' to categorical codes if it's not already\n",
    "survey['SEX'] = survey['SEX'].astype('category').cat.codes\n",
    "survey['sm'] = survey['social_media_group'] * survey['AGE']\n",
    "survey['SA'] = survey['SEX'] * survey['TikTok actual']\n",
    "# Prepare the features (X) and the target (y)\n",
    "X = survey[['social_media_group', 'SEX','SA']]\n",
    "y = survey['risk_taking']\n",
    "\n",
    "# Fit the ordinal logistic regression model\n",
    "model_inter = OrderedModel(y, X, distr='logit')\n",
    "result_inter = model_inter.fit(method='bfgs')\n",
    "\n",
    "# Display the summary\n",
    "print(result_inter.summary())"
   ]
  },
  {
   "cell_type": "code",
   "execution_count": 103,
   "metadata": {},
   "outputs": [
    {
     "name": "stdout",
     "output_type": "stream",
     "text": [
      "Ordered Model AIC: 901.7878815804643, BIC: 922.3118477425392\n",
      "Continuous Model AIC: 909.2679949371171, BIC: 929.791961099192\n",
      "Ordered Model Log-Likelihood: -445.89394079023214\n",
      "Continuous Model Log-Likelihood: -449.63399746855856\n",
      "Ordered Model Pseudo R-squared: -0.435912895402913\n",
      "Continuous Model Pseudo R-squared: -0.447957005274487\n",
      "Ordered Model Accuracy: 0.4222222222222222\n",
      "Continuous Model Accuracy: 0.4666666666666667\n"
     ]
    }
   ],
   "source": [
    "# Compare models using AIC and BIC\n",
    "print(f\"Ordered Model AIC: {result_ordered.aic}, BIC: {result_ordered.bic}\")\n",
    "print(f\"Continuous Model AIC: {result_continuous.aic}, BIC: {result_continuous.bic}\")\n",
    "\n",
    "# Log-Likelihood comparison\n",
    "print(f\"Ordered Model Log-Likelihood: {result_ordered.llf}\")\n",
    "print(f\"Continuous Model Log-Likelihood: {result_continuous.llf}\")\n",
    "\n",
    "# Pseudo R-squared calculation\n",
    "def pseudo_r2(llf, llf_null):\n",
    "    return 1 - (llf / llf_null)\n",
    "\n",
    "# Use the log-likelihood of the null model for comparison\n",
    "llf_null = np.log(y.value_counts().max() / len(y)) * len(y)  # Log-likelihood of a null model with the most frequent class\n",
    "pseudo_r2_ordered = pseudo_r2(result_ordered.llf, llf_null)\n",
    "pseudo_r2_continuous = pseudo_r2(result_continuous.llf, llf_null)\n",
    "\n",
    "print(f\"Ordered Model Pseudo R-squared: {pseudo_r2_ordered}\")\n",
    "print(f\"Continuous Model Pseudo R-squared: {pseudo_r2_continuous}\")\n",
    "\n",
    "# Train-test split for accuracy comparison\n",
    "X_ordered_train, X_ordered_test, y_train, y_test = train_test_split(X_ordered, y, test_size=0.2, random_state=42)\n",
    "X_continuous_train, X_continuous_test, y_train, y_test = train_test_split(X_continuous, y, test_size=0.2, random_state=42)\n",
    "\n",
    "# Fit models for accuracy evaluation\n",
    "model_ordered_cv = OrderedModel(y_train, X_ordered_train, distr='logit').fit(method='bfgs', disp=False)\n",
    "model_continuous_cv = OrderedModel(y_train, X_continuous_train, distr='logit').fit(method='bfgs', disp=False)\n",
    "\n",
    "# Predict and convert probabilities to class labels\n",
    "def predict_classes(model, X):\n",
    "    # Get predicted probabilities\n",
    "    probs = model.predict(X)\n",
    "    # Convert probabilities to class labels\n",
    "    return np.argmax(probs, axis=1)\n",
    "\n",
    "# Predict and calculate accuracy\n",
    "y_pred_ordered = predict_classes(model_ordered_cv, X_ordered_test)\n",
    "y_pred_continuous = predict_classes(model_continuous_cv, X_continuous_test)\n",
    "accuracy_ordered = accuracy_score(y_test, y_pred_ordered)\n",
    "accuracy_continuous = accuracy_score(y_test, y_pred_continuous)\n",
    "\n",
    "print(f\"Ordered Model Accuracy: {accuracy_ordered}\")\n",
    "print(f\"Continuous Model Accuracy: {accuracy_continuous}\")"
   ]
  },
  {
   "cell_type": "code",
   "execution_count": null,
   "metadata": {},
   "outputs": [
    {
     "name": "stdout",
     "output_type": "stream",
     "text": [
      "Optimization terminated successfully.\n",
      "         Current function value: 1.055418\n",
      "         Iterations: 29\n",
      "         Function evaluations: 33\n",
      "         Gradient evaluations: 33\n",
      "                             OrderedModel Results                             \n",
      "==============================================================================\n",
      "Dep. Variable:     social_media_group   Log-Likelihood:                -472.83\n",
      "Model:                   OrderedModel   AIC:                             957.7\n",
      "Method:            Maximum Likelihood   BIC:                             982.3\n",
      "Date:                Sat, 10 Aug 2024                                         \n",
      "Time:                        09:53:30                                         \n",
      "No. Observations:                 448                                         \n",
      "Df Residuals:                     442                                         \n",
      "Df Model:                           4                                         \n",
      "===============================================================================\n",
      "                  coef    std err          z      P>|z|      [0.025      0.975]\n",
      "-------------------------------------------------------------------------------\n",
      "risk_taking    -0.3365      0.099     -3.392      0.001      -0.531      -0.142\n",
      "SEX            -0.1056      0.185     -0.570      0.568      -0.468       0.257\n",
      "AGE            -0.1510      0.078     -1.942      0.052      -0.303       0.001\n",
      "framing         0.4442      0.186      2.394      0.017       0.081       0.808\n",
      "0/1            -4.3366      1.690     -2.566      0.010      -7.650      -1.024\n",
      "1/2             0.2763      0.078      3.563      0.000       0.124       0.428\n",
      "===============================================================================\n"
     ]
    }
   ],
   "source": [
    "# Convert 'SEX' to categorical codes \n",
    "survey['SEX'] = survey['SEX'].astype('category').cat.codes\n",
    "survey['gender_sm'] = survey['SEX'] * survey['social_media_group']\n",
    "survey['SA'] = survey['SEX'] * survey['risk_taking']\n",
    "# Prepare the features (X) and the target (y)\n",
    "X = survey[['risk_taking', 'SEX','AGE','framing']]\n",
    "y = survey['social_media_group']\n",
    "\n",
    "# Fit the ordinal logistic regression model\n",
    "model_sm = OrderedModel(y, X, distr='logit')\n",
    "result_sm = model_sm.fit(method='bfgs')\n",
    "\n",
    "# Display the summary\n",
    "print(result_sm.summary())"
   ]
  },
  {
   "cell_type": "code",
   "execution_count": 186,
   "metadata": {},
   "outputs": [
    {
     "name": "stdout",
     "output_type": "stream",
     "text": [
      "\n",
      "Comparison Summary:\n",
      "Ordinal Logistic Regression Accuracy: 0.515625\n",
      "Generalized Ordinal Logistic Regression Accuracy: 0.140625\n",
      "Multinomial Logistic Regression Accuracy: 0.140625\n",
      "CatBoost Accuracy: 0.546875\n",
      "Ordinal Decision Tree Accuracy: 0.5334821428571429\n",
      "Neural Network Accuracy: 0.5\n"
     ]
    }
   ],
   "source": [
    "# Assuming the predictions and accuracy values from the above models\n",
    "accuracy_dict = {\n",
    "    \"Ordinal Logistic Regression\": accuracy_ordinal,\n",
    "    \"Generalized Ordinal Logistic Regression\": accuracy_gologit,\n",
    "    \"Multinomial Logistic Regression\": accuracy_multinomial,\n",
    "\n",
    "}\n",
    "\n",
    "# Print the comparison summary\n",
    "print(\"\\nComparison Summary:\")\n",
    "for model_name, accuracy in accuracy_dict.items():\n",
    "    print(f\"{model_name} Accuracy: {accuracy}\")\n"
   ]
  },
  {
   "cell_type": "code",
   "execution_count": 239,
   "metadata": {},
   "outputs": [
    {
     "name": "stdout",
     "output_type": "stream",
     "text": [
      "                                        OLS Regression Results                                        \n",
      "======================================================================================================\n",
      "Dep. Variable:     time spend on all social media apps actual   R-squared:                       0.016\n",
      "Model:                                                    OLS   Adj. R-squared:                  0.010\n",
      "Method:                                         Least Squares   F-statistic:                     2.462\n",
      "Date:                                        Tue, 13 Aug 2024   Prob (F-statistic):             0.0620\n",
      "Time:                                                11:42:03   Log-Likelihood:                -2723.8\n",
      "No. Observations:                                         448   AIC:                             5456.\n",
      "Df Residuals:                                             444   BIC:                             5472.\n",
      "Df Model:                                                   3                                         \n",
      "Covariance Type:                                    nonrobust                                         \n",
      "===============================================================================\n",
      "                  coef    std err          t      P>|t|      [0.025      0.975]\n",
      "-------------------------------------------------------------------------------\n",
      "const         447.8930     94.376      4.746      0.000     262.413     633.373\n",
      "risk_taking   -11.5240      5.620     -2.050      0.041     -22.570      -0.478\n",
      "SEX             3.1005     10.377      0.299      0.765     -17.294      23.495\n",
      "AGE            -7.8837      4.350     -1.812      0.071     -16.433       0.666\n",
      "==============================================================================\n",
      "Omnibus:                       33.374   Durbin-Watson:                   2.040\n",
      "Prob(Omnibus):                  0.000   Jarque-Bera (JB):               38.696\n",
      "Skew:                           0.696   Prob(JB):                     3.96e-09\n",
      "Kurtosis:                       3.367   Cond. No.                         407.\n",
      "==============================================================================\n",
      "\n",
      "Notes:\n",
      "[1] Standard Errors assume that the covariance matrix of the errors is correctly specified.\n"
     ]
    }
   ],
   "source": [
    "# Social media as dependant in lienar regression\n",
    "\n",
    "\n",
    "X = survey[['risk_taking', 'SEX','AGE']]\n",
    "y = survey['time spend on all social media apps actual']\n",
    "X = sm.add_constant(X)\n",
    "\n",
    "model = sm.OLS(y, X).fit()\n",
    "print(model.summary())"
   ]
  },
  {
   "cell_type": "code",
   "execution_count": 235,
   "metadata": {},
   "outputs": [
    {
     "name": "stdout",
     "output_type": "stream",
     "text": [
      "Optimization terminated successfully.\n",
      "         Current function value: 1.055418\n",
      "         Iterations: 29\n",
      "         Function evaluations: 33\n",
      "         Gradient evaluations: 33\n",
      "                             OrderedModel Results                             \n",
      "==============================================================================\n",
      "Dep. Variable:     social_media_group   Log-Likelihood:                -472.83\n",
      "Model:                   OrderedModel   AIC:                             957.7\n",
      "Method:            Maximum Likelihood   BIC:                             982.3\n",
      "Date:                Tue, 13 Aug 2024                                         \n",
      "Time:                        11:40:04                                         \n",
      "No. Observations:                 448                                         \n",
      "Df Residuals:                     442                                         \n",
      "Df Model:                           4                                         \n",
      "===============================================================================\n",
      "                  coef    std err          z      P>|z|      [0.025      0.975]\n",
      "-------------------------------------------------------------------------------\n",
      "risk_taking    -0.3365      0.099     -3.392      0.001      -0.531      -0.142\n",
      "SEX            -0.1056      0.185     -0.570      0.568      -0.468       0.257\n",
      "AGE            -0.1510      0.078     -1.942      0.052      -0.303       0.001\n",
      "framing         0.4442      0.186      2.394      0.017       0.081       0.808\n",
      "0/1            -4.3366      1.690     -2.566      0.010      -7.650      -1.024\n",
      "1/2             0.2763      0.078      3.563      0.000       0.124       0.428\n",
      "===============================================================================\n"
     ]
    }
   ],
   "source": [
    "# Convert 'SEX' to categorical codes \n",
    "survey['SEX'] = survey['SEX'].astype('category').cat.codes\n",
    "survey['gender_sm'] = survey['SEX'] * survey['social_media_group']\n",
    "survey['SA'] = survey['SEX'] * survey['risk_taking']\n",
    "# Prepare the features (X) and the target (y)\n",
    "X = survey[['risk_taking', 'SEX','AGE','framing']]\n",
    "y = survey['social_media_group']\n",
    "\n",
    "# Fit the ordinal logistic regression model\n",
    "model_sm = OrderedModel(y, X, distr='logit')\n",
    "result_sm = model_sm.fit(method='bfgs')\n",
    "\n",
    "# Display the summary\n",
    "print(result_sm.summary())"
   ]
  },
  {
   "cell_type": "code",
   "execution_count": 237,
   "metadata": {},
   "outputs": [
    {
     "name": "stdout",
     "output_type": "stream",
     "text": [
      "LR test statistic: inf\n",
      "p-value: 0.0\n",
      "McFadden's R-squared: 1.0\n"
     ]
    },
    {
     "name": "stderr",
     "output_type": "stream",
     "text": [
      "/var/folders/jh/x3pzkf253nz6__d6tfg4p4200000gn/T/ipykernel_98034/2641258256.py:7: RuntimeWarning: divide by zero encountered in log\n",
      "  ll_null = np.log(null_probs[np.arange(len(y)), y]).sum()\n"
     ]
    }
   ],
   "source": [
    "import numpy as np\n",
    "\n",
    "# Calculate log-likelihood of \"most common class\" model\n",
    "most_common_class = y.mode()[0]\n",
    "null_probs = np.zeros((len(y), y.nunique()))\n",
    "null_probs[:, most_common_class] = 1\n",
    "ll_null = np.log(null_probs[np.arange(len(y)), y]).sum()\n",
    "\n",
    "# Compare to your model's log-likelihood\n",
    "ll_full = result_sm.llf\n",
    "\n",
    "# Calculate likelihood ratio test\n",
    "lr_statistic = -2 * (ll_null - ll_full)\n",
    "df = len(result_sm.params) - 1  # Subtracting 1 for the implicit intercept in the null model\n",
    "p_value = scipy.stats.chi2.sf(lr_statistic, df)\n",
    "\n",
    "print(f\"LR test statistic: {lr_statistic}\")\n",
    "print(f\"p-value: {p_value}\")\n",
    "\n",
    "# Recalculate McFadden's R-squared\n",
    "mcfadden_r2 = 1 - (ll_full / ll_null)\n",
    "print(f\"McFadden's R-squared: {mcfadden_r2}\")"
   ]
  },
  {
   "cell_type": "code",
   "execution_count": 238,
   "metadata": {},
   "outputs": [
    {
     "name": "stdout",
     "output_type": "stream",
     "text": [
      "Baseline Accuracy: 0.4286\n",
      "Model Accuracy: 0.4286\n",
      "Improvement: 0.0000\n",
      "Confusion Matrix:\n",
      "[[  0   0 122]\n",
      " [  0   0 134]\n",
      " [  0   0 192]]\n",
      "              precision    recall  f1-score   support\n",
      "\n",
      "           0       0.00      0.00      0.00       122\n",
      "           1       0.00      0.00      0.00       134\n",
      "           2       0.43      1.00      0.60       192\n",
      "\n",
      "    accuracy                           0.43       448\n",
      "   macro avg       0.14      0.33      0.20       448\n",
      "weighted avg       0.18      0.43      0.26       448\n",
      "\n"
     ]
    },
    {
     "name": "stderr",
     "output_type": "stream",
     "text": [
      "/opt/anaconda3/lib/python3.12/site-packages/sklearn/metrics/_classification.py:1509: UndefinedMetricWarning: Precision is ill-defined and being set to 0.0 in labels with no predicted samples. Use `zero_division` parameter to control this behavior.\n",
      "  _warn_prf(average, modifier, f\"{metric.capitalize()} is\", len(result))\n",
      "/opt/anaconda3/lib/python3.12/site-packages/sklearn/metrics/_classification.py:1509: UndefinedMetricWarning: Precision is ill-defined and being set to 0.0 in labels with no predicted samples. Use `zero_division` parameter to control this behavior.\n",
      "  _warn_prf(average, modifier, f\"{metric.capitalize()} is\", len(result))\n",
      "/opt/anaconda3/lib/python3.12/site-packages/sklearn/metrics/_classification.py:1509: UndefinedMetricWarning: Precision is ill-defined and being set to 0.0 in labels with no predicted samples. Use `zero_division` parameter to control this behavior.\n",
      "  _warn_prf(average, modifier, f\"{metric.capitalize()} is\", len(result))\n"
     ]
    }
   ],
   "source": [
    "baseline_accuracy = y.value_counts().max() / len(y)\n",
    "print(f\"Baseline Accuracy: {baseline_accuracy:.4f}\")\n",
    "print(f\"Model Accuracy: {accuracy:.4f}\")\n",
    "print(f\"Improvement: {accuracy - baseline_accuracy:.4f}\")\n",
    "\n",
    "from sklearn.metrics import confusion_matrix\n",
    "cm = confusion_matrix(y, y_pred)\n",
    "print(\"Confusion Matrix:\")\n",
    "print(cm)\n",
    "from sklearn.metrics import classification_report\n",
    "print(classification_report(y, y_pred))"
   ]
  },
  {
   "cell_type": "markdown",
   "metadata": {},
   "source": [
    "model is performing exactly the same as the baseline model, which simply predicts the most common class every time."
   ]
  }
 ],
 "metadata": {
  "kernelspec": {
   "display_name": "base",
   "language": "python",
   "name": "python3"
  },
  "language_info": {
   "codemirror_mode": {
    "name": "ipython",
    "version": 3
   },
   "file_extension": ".py",
   "mimetype": "text/x-python",
   "name": "python",
   "nbconvert_exporter": "python",
   "pygments_lexer": "ipython3",
   "version": "3.12.4"
  }
 },
 "nbformat": 4,
 "nbformat_minor": 2
}
