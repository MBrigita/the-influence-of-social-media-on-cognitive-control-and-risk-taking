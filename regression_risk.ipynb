{
 "cells": [
  {
   "cell_type": "code",
   "execution_count": 418,
   "metadata": {},
   "outputs": [],
   "source": [
    "import os\n",
    "os.getcwd()\n",
    "import pandas as pd\n",
    "import numpy as np\n",
    "from scipy import stats \n",
    "import matplotlib.pyplot as plt\n",
    "import seaborn as sns\n",
    "import statsmodels.api as sm\n",
    "from statsmodels.formula.api import ols\n",
    "from scipy.stats import chi2_contingency\n",
    "from scipy.stats import ttest_ind, pearsonr\n",
    "from statsmodels.miscmodels.ordinal_model import OrderedModel\n",
    "\n",
    "survey = pd.read_excel(\"survey.xlsx\")\n",
    "survey=survey[survey['included']==1]"
   ]
  },
  {
   "cell_type": "code",
   "execution_count": 419,
   "metadata": {},
   "outputs": [
    {
     "name": "stdout",
     "output_type": "stream",
     "text": [
      "Number of outliers detected: 2\n",
      "   included   IDkoda  not equal            t_insert              t_edit  \\\n",
      "5         1  487grfa          0 2024-05-29 10:13:01 2024-05-29 10:21:04   \n",
      "6         1  731gkam          0 2024-05-29 10:13:02 2024-05-29 10:20:05   \n",
      "7         1   705fml          0 2024-05-29 10:13:03 2024-05-29 10:22:24   \n",
      "8         1  67bemf5          0 2024-05-29 10:13:04 2024-05-29 10:22:02   \n",
      "9         1  001mgan          1 2024-05-29 10:13:05 2024-05-29 10:23:43   \n",
      "\n",
      "   status  SEX  AGE   Q2   Q3  ...  FB actual  whatsApp actual  \\\n",
      "5       6    2   23  0.0  0.0  ...         23                0   \n",
      "6       6    2   22  0.0  0.0  ...          0                0   \n",
      "7       6    2   22  0.0  0.0  ...         21                0   \n",
      "8       6    1   22  0.0  0.0  ...         57                0   \n",
      "9       6    2   22  0.0  0.0  ...         26                4   \n",
      "\n",
      "   LinkedIn actual  Twitter actual  Youtube actual  Snapchat actual  \\\n",
      "5                0               0               0                0   \n",
      "6                0               0               0                0   \n",
      "7                1               0              16               40   \n",
      "8                0               0              64                0   \n",
      "9                0               0              60              166   \n",
      "\n",
      "   Threads actual  Pinterest actual  other actual  outliers  \n",
      "5               0                 0             0         0  \n",
      "6               0                 0             0         0  \n",
      "7               0                16             0         0  \n",
      "8               0                 0             0         0  \n",
      "9               0                 0            60         0  \n",
      "\n",
      "[5 rows x 44 columns]\n"
     ]
    }
   ],
   "source": [
    "#columns_to_check_time = [\n",
    "#      'time spend on all social media apps actual', 'Instagram actual',\n",
    "#       'TikTok actual', 'FB actual', 'whatsApp actual', 'LinkedIn actual',\n",
    "#       'Twitter actual', 'Youtube actual', 'Snapchat actual', 'Threads actual',\n",
    "#       'Pinterest actual', 'other actual']\n",
    "columns_to_check_time = [\n",
    "       'time spend on all social media apps actual']\n",
    "# Calculate Z-score for the selected columns\n",
    "z_scores_time = np.abs(stats.zscore(survey[columns_to_check_time]))\n",
    "\n",
    "# Define a threshold for outliers (e.g., z-score > 3)\n",
    "threshold = 3\n",
    "\n",
    "# Create a mask to filter out rows with outliers in any of the selected columns\n",
    "outlier_mask_time = (z_scores_time > threshold).any(axis=1)\n",
    "\n",
    "# Filter out rows with outliers\n",
    "df_cleaned = survey[~outlier_mask_time]\n",
    "df_cleaned = df_cleaned.reset_index(drop=True)\n",
    "\n",
    "# Initialize the 'outliers' column to 0\n",
    "survey['outliers'] = 0\n",
    "\n",
    "# Update the 'outliers' column in the original DataFrame based on the filtered DataFrame's outlier_mask\n",
    "survey.loc[survey.index, 'outliers'] = np.where(outlier_mask_time, 1, 0)\n",
    "\n",
    "# print the number of outliers detected\n",
    "num_outliers = outlier_mask_time.sum()\n",
    "print(f'Number of outliers detected: {num_outliers}')\n",
    "\n",
    "# Display the DataFrame to verify\n",
    "print(survey.head())\n",
    "survey = survey[survey['outliers'] == 0]"
   ]
  },
  {
   "cell_type": "code",
   "execution_count": 420,
   "metadata": {},
   "outputs": [],
   "source": [
    "# transforming risk taking outcomes into just one variable for lotteries, to see if we find some siginifcant resutls\n",
    "# Create a risk-taking variable\n",
    "lotteries = ['Q2','Q3','Q4','Q5']\n",
    "def classify_risk_taking(row):\n",
    "    num_risky = sum(row[col] == 1 for col in lotteries)\n",
    "    num_safe = sum(row[col] == 0 for col in lotteries)\n",
    "    if num_risky > num_safe:\n",
    "        return 2  # Risk-taking\n",
    "    elif num_safe > num_risky:\n",
    "        return 0   # Risk-averse\n",
    "    else:\n",
    "        return 1   # Neutral\n",
    "\n",
    "survey['risk_taking'] = survey.apply(classify_risk_taking, axis=1)\n",
    "\n",
    "survey['sum_r'] = survey[lotteries].sum(axis=1)\n",
    "\n",
    "# Risk-taking framing effect from scenarios \n",
    "scenarios_columns = [ 'Q8', 'Q9', 'Q7a', 'Q7b']\n",
    "def classify_framing(row):\n",
    "    num_risky = sum(row[col] == 1 for col in scenarios_columns)\n",
    "    num_safe = sum(row[col] == 0 for col in scenarios_columns)\n",
    "    if num_risky == 2:\n",
    "        return 0  \n",
    "    elif num_safe == 2:\n",
    "        return 0   \n",
    "    else:\n",
    "        return 1   \n",
    "    \n",
    "    \n",
    "survey['framing'] = survey.apply(classify_framing, axis=1)"
   ]
  },
  {
   "cell_type": "code",
   "execution_count": 421,
   "metadata": {},
   "outputs": [
    {
     "data": {
      "image/png": "[encoded data removed]",
      "text/plain": [
       "<Figure size 640x480 with 1 Axes>"
      ]
     },
     "metadata": {},
     "output_type": "display_data"
    },
    {
     "name": "stdout",
     "output_type": "stream",
     "text": [
      "Chi-square statistic: 10.389583487192223, p-value: 0.03435241881913883\n"
     ]
    }
   ],
   "source": [
    "# Create the histogram\n",
    "plt.hist(survey['time spend on all social media apps actual'], bins=30, edgecolor='black')\n",
    "plt.title('Distribution Histogram')\n",
    "plt.xlabel('Value')\n",
    "plt.ylabel('Frequency')\n",
    "plt.show()\n",
    "\n",
    "# Define percentiles\n",
    "tercile1 = survey['time spend on all social media apps actual'].quantile(0.33)\n",
    "tercile2 = survey['time spend on all social media apps actual'].quantile(0.66)\n",
    "\n",
    "# Create the new variable\n",
    "def categorize_usage(minutes):\n",
    "    if minutes <= tercile1:\n",
    "        return 0\n",
    "    elif minutes <= tercile2:\n",
    "        return 1\n",
    "    else:\n",
    "        return 2\n",
    "\n",
    "survey['social_media_group'] = survey['time spend on all social media apps actual'].apply(categorize_usage)\n",
    "# Create contingency table for risk-taking and social media usage\n",
    "contingency_table = pd.crosstab(survey['risk_taking'], survey['social_media_group'])\n",
    "\n",
    "# Perform Chi-square test\n",
    "chi2, p, _, _ = chi2_contingency(contingency_table)\n",
    "print(f\"Chi-square statistic: {chi2}, p-value: {p}\")\n"
   ]
  },
  {
   "cell_type": "code",
   "execution_count": 422,
   "metadata": {},
   "outputs": [
    {
     "name": "stdout",
     "output_type": "stream",
     "text": [
      "Chi-square statistic: 2.275091774771616, p-value: 0.3206048575823326\n"
     ]
    }
   ],
   "source": [
    "# Create contingency table for framing risk-taking and social media usage\n",
    "contingency_framing_table = pd.crosstab(survey['framing'], survey['social_media_group'])\n",
    "\n",
    "# Perform Chi-square test\n",
    "chi2, p, _, _ = chi2_contingency(contingency_framing_table)\n",
    "print(f\"Chi-square statistic: {chi2}, p-value: {p}\")"
   ]
  },
  {
   "cell_type": "code",
   "execution_count": 423,
   "metadata": {},
   "outputs": [
    {
     "name": "stdout",
     "output_type": "stream",
     "text": [
      "Optimization terminated successfully.\n",
      "         Current function value: 0.997092\n",
      "         Iterations: 24\n",
      "         Function evaluations: 29\n",
      "         Gradient evaluations: 29\n",
      "                             OrderedModel Results                             \n",
      "==============================================================================\n",
      "Dep. Variable:            risk_taking   Log-Likelihood:                -444.70\n",
      "Model:                   OrderedModel   AIC:                             899.4\n",
      "Method:            Maximum Likelihood   BIC:                             919.9\n",
      "Date:                Thu, 15 Aug 2024                                         \n",
      "Time:                        16:27:14                                         \n",
      "No. Observations:                 446                                         \n",
      "Df Residuals:                     441                                         \n",
      "Df Model:                           3                                         \n",
      "======================================================================================\n",
      "                         coef    std err          z      P>|z|      [0.025      0.975]\n",
      "--------------------------------------------------------------------------------------\n",
      "social_media_group     0.1144      0.111      1.034      0.301      -0.102       0.331\n",
      "SEX                   -0.6081      0.188     -3.236      0.001      -0.976      -0.240\n",
      "AGE                   -0.1012      0.078     -1.293      0.196      -0.255       0.052\n",
      "0/1                   -3.7673      1.747     -2.156      0.031      -7.192      -0.342\n",
      "1/2                    0.8569      0.059     14.539      0.000       0.741       0.972\n",
      "======================================================================================\n"
     ]
    }
   ],
   "source": [
    "# Prepare data for ordinal logistic regression\n",
    "survey['social_media_group'] = survey['social_media_group'].astype('category').cat.codes\n",
    "X = survey[['social_media_group', 'SEX', 'AGE']]\n",
    "y = survey['risk_taking']\n",
    "\n",
    "# Fit the ordinal logistic regression model\n",
    "model_TERCILE = OrderedModel(y, X, distr='logit')\n",
    "result_TERCILE = model_TERCILE.fit(method='bfgs')\n",
    "\n",
    "# Display the summary\n",
    "print(result_TERCILE.summary())"
   ]
  },
  {
   "cell_type": "code",
   "execution_count": 424,
   "metadata": {},
   "outputs": [
    {
     "name": "stdout",
     "output_type": "stream",
     "text": [
      "Chi-square statistic: 13.01895021963614, p-value: 0.011183570037573807\n"
     ]
    }
   ],
   "source": [
    "# Create the new variable\n",
    "def categorize_usage(minutes):\n",
    "    if minutes <= 200: #190,150\n",
    "        return 0\n",
    "    elif minutes <= 270: #270\n",
    "        return 1\n",
    "    else:\n",
    "        return 2\n",
    "\n",
    "survey['social_media_group'] = survey['time spend on all social media apps actual'].apply(categorize_usage)\n",
    "# Create contingency table for risk-taking and social media usage\n",
    "contingency_table = pd.crosstab(survey['risk_taking'], survey['social_media_group'])\n",
    "\n",
    "# Perform Chi-square test\n",
    "chi2, p, _, _ = chi2_contingency(contingency_table)\n",
    "print(f\"Chi-square statistic: {chi2}, p-value: {p}\")\n",
    "\n"
   ]
  },
  {
   "cell_type": "code",
   "execution_count": 335,
   "metadata": {},
   "outputs": [],
   "source": [
    "#definding a new variable that sums upp social media apps\n",
    "columns_to_sum = [\n",
    "    'Instagram actual', 'TikTok actual', 'Youtube actual','FB actual', 'whatsApp actual',\n",
    "    'LinkedIn actual', 'Twitter actual', \n",
    "    'Snapchat actual', 'Threads actual', 'Pinterest actual'\n",
    "]\n",
    "\n",
    "# Create a new column 'sum_sm' by summing the specified columns\n",
    "survey['sum_sm'] = survey[columns_to_sum].sum(axis=1)\n",
    "survey['sum_sm_top'] = survey[(columns_to_sum[0:2])].sum(axis=1)"
   ]
  },
  {
   "cell_type": "code",
   "execution_count": 425,
   "metadata": {},
   "outputs": [
    {
     "name": "stdout",
     "output_type": "stream",
     "text": [
      "Optimization terminated successfully.\n",
      "         Current function value: 0.996656\n",
      "         Iterations: 19\n",
      "         Function evaluations: 20\n",
      "         Gradient evaluations: 20\n",
      "                             OrderedModel Results                             \n",
      "==============================================================================\n",
      "Dep. Variable:            risk_taking   Log-Likelihood:                -444.51\n",
      "Model:                   OrderedModel   AIC:                             899.0\n",
      "Method:            Maximum Likelihood   BIC:                             919.5\n",
      "Date:                Thu, 15 Aug 2024                                         \n",
      "Time:                        16:27:45                                         \n",
      "No. Observations:                 446                                         \n",
      "Df Residuals:                     441                                         \n",
      "Df Model:                           3                                         \n",
      "======================================================================================\n",
      "                         coef    std err          z      P>|z|      [0.025      0.975]\n",
      "--------------------------------------------------------------------------------------\n",
      "social_media_group     0.1727      0.112      1.548      0.122      -0.046       0.391\n",
      "SEX                   -0.5987      0.188     -3.189      0.001      -0.967      -0.231\n",
      "framing               -0.2228      0.191     -1.165      0.244      -0.598       0.152\n",
      "0/1                   -1.6277      0.370     -4.395      0.000      -2.354      -0.902\n",
      "1/2                    0.8577      0.059     14.548      0.000       0.742       0.973\n",
      "======================================================================================\n"
     ]
    }
   ],
   "source": [
    "# Prepare data for ordinal logistic regression\n",
    "survey['social_media_group'] = survey['social_media_group'].astype('category').cat.codes\n",
    "X_ordered = survey[['social_media_group', 'SEX','framing']]\n",
    "y = survey['risk_taking']\n",
    "\n",
    "# Fit the ordinal logistic regression model\n",
    "model_ordered = OrderedModel(y, X_ordered, distr='logit')\n",
    "result_ordered = model_ordered.fit(method='bfgs')\n",
    "\n",
    "# Display the summary\n",
    "print(result_ordered.summary())"
   ]
  },
  {
   "cell_type": "code",
   "execution_count": 426,
   "metadata": {},
   "outputs": [
    {
     "name": "stdout",
     "output_type": "stream",
     "text": [
      "Optimization terminated successfully.\n",
      "         Current function value: 0.990270\n",
      "         Iterations 6\n",
      "                          MNLogit Regression Results                          \n",
      "==============================================================================\n",
      "Dep. Variable:            risk_taking   No. Observations:                  446\n",
      "Model:                        MNLogit   Df Residuals:                      438\n",
      "Method:                           MLE   Df Model:                            6\n",
      "Date:                Thu, 15 Aug 2024   Pseudo R-squ.:                 0.02189\n",
      "Time:                        16:28:04   Log-Likelihood:                -441.66\n",
      "converged:                       True   LL-Null:                       -451.54\n",
      "Covariance Type:            nonrobust   LLR p-value:                  0.003047\n",
      "==============================================================================================================\n",
      "                             risk_taking=1       coef    std err          z      P>|z|      [0.025      0.975]\n",
      "--------------------------------------------------------------------------------------------------------------\n",
      "const                                          0.1683      2.098      0.080      0.936      -3.944       4.281\n",
      "time spend on all social media apps actual     0.0023      0.001      2.141      0.032       0.000       0.004\n",
      "SEX                                           -0.5039      0.228     -2.211      0.027      -0.951      -0.057\n",
      "AGE                                            0.0220      0.093      0.236      0.813      -0.161       0.205\n",
      "--------------------------------------------------------------------------------------------------------------\n",
      "                             risk_taking=2       coef    std err          z      P>|z|      [0.025      0.975]\n",
      "--------------------------------------------------------------------------------------------------------------\n",
      "const                                          5.0139      2.914      1.721      0.085      -0.697      10.725\n",
      "time spend on all social media apps actual     0.0018      0.001      1.312      0.190      -0.001       0.005\n",
      "SEX                                           -0.9304      0.295     -3.151      0.002      -1.509      -0.352\n",
      "AGE                                           -0.2185      0.131     -1.668      0.095      -0.475       0.038\n",
      "==============================================================================================================\n"
     ]
    }
   ],
   "source": [
    "# Prepare data\n",
    "survey['social_media_group'] = survey['social_media_group'].astype('category').cat.codes\n",
    "X = survey[['time spend on all social media apps actual', 'SEX','AGE']] #WITH SOCIAL_MEDIA_GROUP BETTER P VALUES AND COEFF\n",
    "y = survey['risk_taking']\n",
    "\n",
    "# Add constant term for the intercept\n",
    "X = sm.add_constant(X)\n",
    "\n",
    "# Fit multinomial logistic regression model\n",
    "mnlogit_model = sm.MNLogit(y, X).fit()\n",
    "print(mnlogit_model.summary())"
   ]
  },
  {
   "cell_type": "code",
   "execution_count": 392,
   "metadata": {},
   "outputs": [
    {
     "name": "stdout",
     "output_type": "stream",
     "text": [
      "Log-likelihood null model: -257.8508\n",
      "Log-likelihood full model: -477.9432\n",
      "Likelihood Ratio Test:\n",
      "LR test statistic: -440.1849\n",
      "Degrees of freedom: 5\n",
      "p-value: 1.0000\n",
      "McFadden's R-squared: -0.8536\n",
      "\n",
      "Full Model:\n",
      "AIC: 967.8864\n",
      "BIC: 992.5152\n"
     ]
    },
    {
     "ename": "KeyError",
     "evalue": "\"['0/1', '1/2'] not in index\"",
     "output_type": "error",
     "traceback": [
      "\u001b[0;31m---------------------------------------------------------------------------\u001b[0m",
      "\u001b[0;31mKeyError\u001b[0m                                  Traceback (most recent call last)",
      "Cell \u001b[0;32mIn[392], line 48\u001b[0m\n\u001b[1;32m     44\u001b[0m \u001b[38;5;28mprint\u001b[39m(\u001b[38;5;124mf\u001b[39m\u001b[38;5;124m\"\u001b[39m\u001b[38;5;124mBIC: \u001b[39m\u001b[38;5;132;01m{\u001b[39;00mbic_full\u001b[38;5;132;01m:\u001b[39;00m\u001b[38;5;124m.4f\u001b[39m\u001b[38;5;132;01m}\u001b[39;00m\u001b[38;5;124m\"\u001b[39m)\n\u001b[1;32m     46\u001b[0m \u001b[38;5;66;03m# Calculate predicted probabilities for the full model\u001b[39;00m\n\u001b[1;32m     47\u001b[0m \u001b[38;5;66;03m# Use the same variables and order as in the original model\u001b[39;00m\n\u001b[0;32m---> 48\u001b[0m X_pred \u001b[38;5;241m=\u001b[39m survey[result_sm\u001b[38;5;241m.\u001b[39mmodel\u001b[38;5;241m.\u001b[39mexog_names]\n\u001b[1;32m     49\u001b[0m probs \u001b[38;5;241m=\u001b[39m result_sm\u001b[38;5;241m.\u001b[39mpredict(X_pred)\n\u001b[1;32m     51\u001b[0m \u001b[38;5;66;03m# Convert probabilities to class predictions\u001b[39;00m\n",
      "File \u001b[0;32m/opt/anaconda3/lib/python3.12/site-packages/pandas/core/frame.py:4108\u001b[0m, in \u001b[0;36mDataFrame.__getitem__\u001b[0;34m(self, key)\u001b[0m\n\u001b[1;32m   4106\u001b[0m     \u001b[38;5;28;01mif\u001b[39;00m is_iterator(key):\n\u001b[1;32m   4107\u001b[0m         key \u001b[38;5;241m=\u001b[39m \u001b[38;5;28mlist\u001b[39m(key)\n\u001b[0;32m-> 4108\u001b[0m     indexer \u001b[38;5;241m=\u001b[39m \u001b[38;5;28mself\u001b[39m\u001b[38;5;241m.\u001b[39mcolumns\u001b[38;5;241m.\u001b[39m_get_indexer_strict(key, \u001b[38;5;124m\"\u001b[39m\u001b[38;5;124mcolumns\u001b[39m\u001b[38;5;124m\"\u001b[39m)[\u001b[38;5;241m1\u001b[39m]\n\u001b[1;32m   4110\u001b[0m \u001b[38;5;66;03m# take() does not accept boolean indexers\u001b[39;00m\n\u001b[1;32m   4111\u001b[0m \u001b[38;5;28;01mif\u001b[39;00m \u001b[38;5;28mgetattr\u001b[39m(indexer, \u001b[38;5;124m\"\u001b[39m\u001b[38;5;124mdtype\u001b[39m\u001b[38;5;124m\"\u001b[39m, \u001b[38;5;28;01mNone\u001b[39;00m) \u001b[38;5;241m==\u001b[39m \u001b[38;5;28mbool\u001b[39m:\n",
      "File \u001b[0;32m/opt/anaconda3/lib/python3.12/site-packages/pandas/core/indexes/base.py:6200\u001b[0m, in \u001b[0;36mIndex._get_indexer_strict\u001b[0;34m(self, key, axis_name)\u001b[0m\n\u001b[1;32m   6197\u001b[0m \u001b[38;5;28;01melse\u001b[39;00m:\n\u001b[1;32m   6198\u001b[0m     keyarr, indexer, new_indexer \u001b[38;5;241m=\u001b[39m \u001b[38;5;28mself\u001b[39m\u001b[38;5;241m.\u001b[39m_reindex_non_unique(keyarr)\n\u001b[0;32m-> 6200\u001b[0m \u001b[38;5;28mself\u001b[39m\u001b[38;5;241m.\u001b[39m_raise_if_missing(keyarr, indexer, axis_name)\n\u001b[1;32m   6202\u001b[0m keyarr \u001b[38;5;241m=\u001b[39m \u001b[38;5;28mself\u001b[39m\u001b[38;5;241m.\u001b[39mtake(indexer)\n\u001b[1;32m   6203\u001b[0m \u001b[38;5;28;01mif\u001b[39;00m \u001b[38;5;28misinstance\u001b[39m(key, Index):\n\u001b[1;32m   6204\u001b[0m     \u001b[38;5;66;03m# GH 42790 - Preserve name from an Index\u001b[39;00m\n",
      "File \u001b[0;32m/opt/anaconda3/lib/python3.12/site-packages/pandas/core/indexes/base.py:6252\u001b[0m, in \u001b[0;36mIndex._raise_if_missing\u001b[0;34m(self, key, indexer, axis_name)\u001b[0m\n\u001b[1;32m   6249\u001b[0m     \u001b[38;5;28;01mraise\u001b[39;00m \u001b[38;5;167;01mKeyError\u001b[39;00m(\u001b[38;5;124mf\u001b[39m\u001b[38;5;124m\"\u001b[39m\u001b[38;5;124mNone of [\u001b[39m\u001b[38;5;132;01m{\u001b[39;00mkey\u001b[38;5;132;01m}\u001b[39;00m\u001b[38;5;124m] are in the [\u001b[39m\u001b[38;5;132;01m{\u001b[39;00maxis_name\u001b[38;5;132;01m}\u001b[39;00m\u001b[38;5;124m]\u001b[39m\u001b[38;5;124m\"\u001b[39m)\n\u001b[1;32m   6251\u001b[0m not_found \u001b[38;5;241m=\u001b[39m \u001b[38;5;28mlist\u001b[39m(ensure_index(key)[missing_mask\u001b[38;5;241m.\u001b[39mnonzero()[\u001b[38;5;241m0\u001b[39m]]\u001b[38;5;241m.\u001b[39munique())\n\u001b[0;32m-> 6252\u001b[0m \u001b[38;5;28;01mraise\u001b[39;00m \u001b[38;5;167;01mKeyError\u001b[39;00m(\u001b[38;5;124mf\u001b[39m\u001b[38;5;124m\"\u001b[39m\u001b[38;5;132;01m{\u001b[39;00mnot_found\u001b[38;5;132;01m}\u001b[39;00m\u001b[38;5;124m not in index\u001b[39m\u001b[38;5;124m\"\u001b[39m)\n",
      "\u001b[0;31mKeyError\u001b[0m: \"['0/1', '1/2'] not in index\""
     ]
    }
   ],
   "source": [
    "import numpy as np\n",
    "import pandas as pd\n",
    "from statsmodels.miscmodels.ordinal_model import OrderedModel\n",
    "import scipy.stats\n",
    "\n",
    "# Assuming your current model is stored in 'result_sm'\n",
    "# and your data is in a DataFrame called 'survey'\n",
    "\n",
    "# Create a null model by always predicting the most common class\n",
    "y = survey['risk_taking']\n",
    "most_common_class = y.mode()[0]\n",
    "y_pred_null = pd.Series([most_common_class] * len(y), index=y.index)\n",
    "\n",
    "# Calculate log-likelihood for the null model\n",
    "prob_most_common = (y == most_common_class).mean()\n",
    "ll_null = len(y) * np.log(prob_most_common)\n",
    "\n",
    "# Extract log-likelihood for the full model\n",
    "ll_full = result_sm.llf\n",
    "\n",
    "print(f\"Log-likelihood null model: {ll_null:.4f}\")\n",
    "print(f\"Log-likelihood full model: {ll_full:.4f}\")\n",
    "\n",
    "# Likelihood Ratio Test\n",
    "lr_statistic = -2 * (ll_null - ll_full)\n",
    "df = len(result_sm.params) - 1  # Subtracting 1 for the implicit intercept in the null model\n",
    "p_value = scipy.stats.chi2.sf(lr_statistic, df)\n",
    "\n",
    "print(f\"Likelihood Ratio Test:\")\n",
    "print(f\"LR test statistic: {lr_statistic:.4f}\")\n",
    "print(f\"Degrees of freedom: {df}\")\n",
    "print(f\"p-value: {p_value:.4f}\")\n",
    "\n",
    "# McFadden's R-squared\n",
    "mcfadden_r2 = 1 - (ll_full / ll_null)\n",
    "print(f\"McFadden's R-squared: {mcfadden_r2:.4f}\")\n",
    "\n",
    "# Calculate AIC and BIC for the full model\n",
    "aic_full = result_sm.aic\n",
    "bic_full = result_sm.bic\n",
    "\n",
    "print(f\"\\nFull Model:\")\n",
    "print(f\"AIC: {aic_full:.4f}\")\n",
    "print(f\"BIC: {bic_full:.4f}\")\n",
    "\n",
    "# Calculate predicted probabilities for the full model\n",
    "# Use the same variables and order as in the original model\n",
    "X_pred = survey[result_sm.model.exog_names]\n",
    "probs = result_sm.predict(X_pred)\n",
    "\n",
    "# Convert probabilities to class predictions\n",
    "y_pred_full = probs.idxmax(axis=1)\n",
    "\n",
    "# Calculate accuracy for both models\n",
    "accuracy_null = (y == y_pred_null).mean()\n",
    "accuracy_full = (y == y_pred_full).mean()\n",
    "\n",
    "print(f\"\\nNull Model Accuracy (Baseline): {accuracy_null:.4f}\")\n",
    "print(f\"Full Model Accuracy: {accuracy_full:.4f}\")\n",
    "print(f\"Improvement over baseline: {accuracy_full - accuracy_null:.4f}\")"
   ]
  },
  {
   "cell_type": "code",
   "execution_count": 437,
   "metadata": {},
   "outputs": [
    {
     "name": "stdout",
     "output_type": "stream",
     "text": [
      "Optimization terminated successfully.\n",
      "         Current function value: 0.994556\n",
      "         Iterations: 19\n",
      "         Function evaluations: 23\n",
      "         Gradient evaluations: 23\n",
      "                             OrderedModel Results                             \n",
      "==============================================================================\n",
      "Dep. Variable:            risk_taking   Log-Likelihood:                -443.57\n",
      "Model:                   OrderedModel   AIC:                             897.1\n",
      "Method:            Maximum Likelihood   BIC:                             917.6\n",
      "Date:                Fri, 16 Aug 2024                                         \n",
      "Time:                        11:54:28                                         \n",
      "No. Observations:                 446                                         \n",
      "Df Residuals:                     441                                         \n",
      "Df Model:                           3                                         \n",
      "==============================================================================================================\n",
      "                                                 coef    std err          z      P>|z|      [0.025      0.975]\n",
      "--------------------------------------------------------------------------------------------------------------\n",
      "time spend on all social media apps actual     0.0018      0.001      2.064      0.039    9.21e-05       0.004\n",
      "SEX                                           -0.6131      0.188     -3.265      0.001      -0.981      -0.245\n",
      "framing                                       -0.2288      0.191     -1.197      0.231      -0.603       0.146\n",
      "0/1                                           -0.7550      0.300     -2.520      0.012      -1.342      -0.168\n",
      "1/2                                            0.8611      0.059     14.591      0.000       0.745       0.977\n",
      "==============================================================================================================\n"
     ]
    }
   ],
   "source": [
    "# Prepare data for ordinal logistic regression\n",
    "survey['social_media_group'] = survey['social_media_group'].astype('category').cat.codes\n",
    "survey['SA'] = survey['AGE'] * survey['framing']\n",
    "X_continuous = survey[['time spend on all social media apps actual','SEX','framing']]\n",
    "y = survey['risk_taking']\n",
    "\n",
    "# Fit the ordinal logistic regression model\n",
    "model_continuous = OrderedModel(y, X_continuous, distr='logit')\n",
    "result_continuous = model_continuous.fit(method='bfgs')\n",
    "\n",
    "# Display the summary\n",
    "print(result_continuous.summary())\n",
    "\n",
    "\n"
   ]
  },
  {
   "cell_type": "code",
   "execution_count": 436,
   "metadata": {},
   "outputs": [
    {
     "data": {
      "image/png": "[encoded data removed]",
      "text/plain": [
       "<Figure size 1000x600 with 1 Axes>"
      ]
     },
     "metadata": {},
     "output_type": "display_data"
    },
    {
     "ename": "NameError",
     "evalue": "name 'surveyurvey' is not defined",
     "output_type": "error",
     "traceback": [
      "\u001b[0;31m---------------------------------------------------------------------------\u001b[0m",
      "\u001b[0;31mNameError\u001b[0m                                 Traceback (most recent call last)",
      "Cell \u001b[0;32mIn[436], line 18\u001b[0m\n\u001b[1;32m     15\u001b[0m plt\u001b[38;5;241m.\u001b[39mshow()\n\u001b[1;32m     17\u001b[0m \u001b[38;5;66;03m# 2. Skewness Statistic\u001b[39;00m\n\u001b[0;32m---> 18\u001b[0m skewness_value \u001b[38;5;241m=\u001b[39m skew(surveyurvey[\u001b[38;5;124m'\u001b[39m\u001b[38;5;124mtime spend on all social media apps actual\u001b[39m\u001b[38;5;124m'\u001b[39m])\n\u001b[1;32m     19\u001b[0m \u001b[38;5;28mprint\u001b[39m(\u001b[38;5;124mf\u001b[39m\u001b[38;5;124m'\u001b[39m\u001b[38;5;124mSkewness: \u001b[39m\u001b[38;5;132;01m{\u001b[39;00mskewness_value\u001b[38;5;132;01m:\u001b[39;00m\u001b[38;5;124m.2f\u001b[39m\u001b[38;5;132;01m}\u001b[39;00m\u001b[38;5;124m'\u001b[39m)\n\u001b[1;32m     21\u001b[0m \u001b[38;5;66;03m# 3. Normal Q-Q Plot\u001b[39;00m\n",
      "\u001b[0;31mNameError\u001b[0m: name 'surveyurvey' is not defined"
     ]
    }
   ],
   "source": [
    "\n"
   ]
  },
  {
   "cell_type": "code",
   "execution_count": 430,
   "metadata": {},
   "outputs": [
    {
     "name": "stdout",
     "output_type": "stream",
     "text": [
      "Optimization terminated successfully.\n",
      "         Current function value: 0.994900\n",
      "         Iterations: 23\n",
      "         Function evaluations: 24\n",
      "         Gradient evaluations: 24\n",
      "                             OrderedModel Results                             \n",
      "==============================================================================\n",
      "Dep. Variable:            risk_taking   Log-Likelihood:                -443.73\n",
      "Model:                   OrderedModel   AIC:                             897.5\n",
      "Method:            Maximum Likelihood   BIC:                             918.0\n",
      "Date:                Thu, 15 Aug 2024                                         \n",
      "Time:                        16:30:03                                         \n",
      "No. Observations:                 446                                         \n",
      "Df Residuals:                     441                                         \n",
      "Df Model:                           3                                         \n",
      "=========================================================================================\n",
      "                            coef    std err          z      P>|z|      [0.025      0.975]\n",
      "-----------------------------------------------------------------------------------------\n",
      "log_social_media_time     0.4360      0.220      1.986      0.047       0.006       0.866\n",
      "SEX                      -0.6114      0.188     -3.256      0.001      -0.979      -0.243\n",
      "framing                  -0.2287      0.191     -1.196      0.232      -0.603       0.146\n",
      "0/1                       0.5478      1.240      0.442      0.659      -1.883       2.978\n",
      "1/2                       0.8603      0.059     14.585      0.000       0.745       0.976\n",
      "=========================================================================================\n"
     ]
    }
   ],
   "source": [
    "# Prepare data for ordinal logistic regression\n",
    "survey['log_social_media_time'] = np.log(survey['time spend on all social media apps actual'])\n",
    "survey['social_media_group'] = survey['social_media_group'].astype('category').cat.codes\n",
    "survey['SA'] = survey['AGE'] * survey['log_social_media_time']\n",
    "survey['SX'] = survey['SEX'] * survey['log_social_media_time']\n",
    "\n",
    "X_continuous = survey[['log_social_media_time','SEX','framing']]\n",
    "y = survey['risk_taking']\n",
    "\n",
    "# Fit the ordinal logistic regression model\n",
    "model_continuous = OrderedModel(y, X_continuous, distr='logit')\n",
    "result_continuous = model_continuous.fit(method='bfgs')\n",
    "\n",
    "# Display the summary\n",
    "print(result_continuous.summary())\n",
    "\n",
    "\n"
   ]
  },
  {
   "cell_type": "code",
   "execution_count": 396,
   "metadata": {},
   "outputs": [
    {
     "name": "stdout",
     "output_type": "stream",
     "text": [
      "McFadden's R^2: 0.0169\n"
     ]
    }
   ],
   "source": [
    "# Compute log-likelihood for the null model\n",
    "\n",
    "counts = y.value_counts()\n",
    "proportions = counts / len(y)\n",
    "# Log-likelihood of the null model\n",
    "null_ll = np.sum([np.sum(y == k) * np.log(proportions[k]) for k in proportions.index])\n",
    "\n",
    "# Log-likelihood for the fitted model\n",
    "log_likelihood_fitted = result_continuous.llf\n",
    "\n",
    "# Compute McFadden’s R^2\n",
    "mcfadden_r2 = 1 - (log_likelihood_fitted / null_ll)\n",
    "print(f\"McFadden's R^2: {mcfadden_r2:.4f}\")"
   ]
  },
  {
   "cell_type": "code",
   "execution_count": 399,
   "metadata": {},
   "outputs": [
    {
     "name": "stdout",
     "output_type": "stream",
     "text": [
      "Minimum z value: -2.502556770760851\n",
      "Maximum z value: -0.47351809060552386\n"
     ]
    }
   ],
   "source": [
    "\n",
    "# Coefficients from the model\n",
    "coef_time_spent = 0.47\n",
    "coef_sex = -0.476\n",
    "coef_framing = -0.3044\n",
    "coef_age = -0.1659\n",
    "\n",
    "# Extract the relevant columns from the dataframe\n",
    "time_spent = survey['log_social_media_time']\n",
    "sex = survey['SEX']\n",
    "framing = survey['framing']\n",
    "age= survey['AGE']\n",
    "\n",
    "# Compute the latent variable z for each observation\n",
    "z_values = coef_time_spent * time_spent + coef_sex * sex + coef_framing * framing+ age *coef_age\n",
    "\n",
    "# Calculate the minimum and maximum z values\n",
    "min_z = z_values.min()\n",
    "max_z = z_values.max()\n",
    "\n",
    "print(f\"Minimum z value: {min_z}\")\n",
    "print(f\"Maximum z value: {max_z}\")\n"
   ]
  },
  {
   "cell_type": "code",
   "execution_count": 431,
   "metadata": {},
   "outputs": [
    {
     "ename": "SyntaxError",
     "evalue": "invalid syntax (<unknown>, line 1)",
     "output_type": "error",
     "traceback": [
      "Traceback \u001b[0;36m(most recent call last)\u001b[0m:\n",
      "\u001b[0m  File \u001b[1;32m/opt/anaconda3/lib/python3.12/site-packages/IPython/core/interactiveshell.py:3577\u001b[0m in \u001b[1;35mrun_code\u001b[0m\n    exec(code_obj, self.user_global_ns, self.user_ns)\u001b[0m\n",
      "\u001b[0m  Cell \u001b[1;32mIn[431], line 11\u001b[0m\n    model = ols('time spend an all social media apps actual ~ C(risk_taking)', data=survey).fit()\u001b[0m\n",
      "\u001b[0m  File \u001b[1;32m/opt/anaconda3/lib/python3.12/site-packages/statsmodels/base/model.py:203\u001b[0m in \u001b[1;35mfrom_formula\u001b[0m\n    tmp = handle_formula_data(data, None, formula, depth=eval_env,\u001b[0m\n",
      "\u001b[0m  File \u001b[1;32m/opt/anaconda3/lib/python3.12/site-packages/statsmodels/formula/formulatools.py:63\u001b[0m in \u001b[1;35mhandle_formula_data\u001b[0m\n    result = dmatrices(formula, Y, depth, return_type='dataframe',\u001b[0m\n",
      "\u001b[0m  File \u001b[1;32m/opt/anaconda3/lib/python3.12/site-packages/patsy/highlevel.py:309\u001b[0m in \u001b[1;35mdmatrices\u001b[0m\n    (lhs, rhs) = _do_highlevel_design(formula_like, data, eval_env,\u001b[0m\n",
      "\u001b[0m  File \u001b[1;32m/opt/anaconda3/lib/python3.12/site-packages/patsy/highlevel.py:164\u001b[0m in \u001b[1;35m_do_highlevel_design\u001b[0m\n    design_infos = _try_incr_builders(formula_like, data_iter_maker, eval_env,\u001b[0m\n",
      "\u001b[0m  File \u001b[1;32m/opt/anaconda3/lib/python3.12/site-packages/patsy/highlevel.py:66\u001b[0m in \u001b[1;35m_try_incr_builders\u001b[0m\n    return design_matrix_builders([formula_like.lhs_termlist,\u001b[0m\n",
      "\u001b[0m  File \u001b[1;32m/opt/anaconda3/lib/python3.12/site-packages/patsy/build.py:689\u001b[0m in \u001b[1;35mdesign_matrix_builders\u001b[0m\n    factor_states = _factors_memorize(all_factors, data_iter_maker, eval_env)\u001b[0m\n",
      "\u001b[0m  File \u001b[1;32m/opt/anaconda3/lib/python3.12/site-packages/patsy/build.py:354\u001b[0m in \u001b[1;35m_factors_memorize\u001b[0m\n    which_pass = factor.memorize_passes_needed(state, eval_env)\u001b[0m\n",
      "\u001b[0m  File \u001b[1;32m/opt/anaconda3/lib/python3.12/site-packages/patsy/eval.py:478\u001b[0m in \u001b[1;35mmemorize_passes_needed\u001b[0m\n    subset_names = [name for name in ast_names(self.code)\u001b[0m\n",
      "\u001b[0m  File \u001b[1;32m/opt/anaconda3/lib/python3.12/site-packages/patsy/eval.py:109\u001b[0m in \u001b[1;35mast_names\u001b[0m\n    for node in ast.walk(ast.parse(code)):\u001b[0m\n",
      "\u001b[0;36m  File \u001b[0;32m/opt/anaconda3/lib/python3.12/ast.py:52\u001b[0;36m in \u001b[0;35mparse\u001b[0;36m\n\u001b[0;31m    return compile(source, filename, mode, flags,\u001b[0;36m\n",
      "\u001b[0;36m  File \u001b[0;32m<unknown>:1\u001b[0;36m\u001b[0m\n\u001b[0;31m    time spend an all social media apps actual\u001b[0m\n\u001b[0m         ^\u001b[0m\n\u001b[0;31mSyntaxError\u001b[0m\u001b[0;31m:\u001b[0m invalid syntax\n"
     ]
    }
   ],
   "source": [
    "import pandas as pd\n",
    "import numpy as np\n",
    "import seaborn as sns\n",
    "import matplotlib.pyplot as plt\n",
    "from statsmodels.formula.api import ols\n",
    "import statsmodels.api as sm\n",
    "from scipy import stats\n",
    "from statsmodels.stats.anova import anova_lm\n",
    "from statsmodels.formula.api import ols\n",
    "# ANOVA\n",
    "model = ols('time spend an all social media apps actual ~ C(risk_taking)', data=survey).fit()\n",
    "anova_results = anova_lm(model, typ=2)\n",
    "\n",
    "print('ANOVA Results:')\n",
    "print(anova_results)\n",
    "\n",
    "# Post-hoc test if ANOVA is significant\n",
    "if anova_results['PR(>F)'][0] < 0.05:\n",
    "    from statsmodels.stats.multicomp import pairwise_tukeyhsd\n",
    "    \n",
    "    tukey = pairwise_tukeyhsd(endog=df['time_spent_social_media'],\n",
    "                              groups=df['risk_taking'],\n",
    "                              alpha=0.05)\n",
    "    print(tukey)"
   ]
  },
  {
   "cell_type": "code",
   "execution_count": 432,
   "metadata": {},
   "outputs": [
    {
     "name": "stdout",
     "output_type": "stream",
     "text": [
      "Optimization terminated successfully.\n",
      "         Current function value: 0.642944\n",
      "         Iterations: 23\n",
      "         Function evaluations: 28\n",
      "         Gradient evaluations: 28\n",
      "                           Logit Regression Results                           \n",
      "==============================================================================\n",
      "Dep. Variable:                framing   No. Observations:                  446\n",
      "Model:                          Logit   Df Residuals:                      442\n",
      "Method:                           MLE   Df Model:                            3\n",
      "Date:                Thu, 15 Aug 2024   Pseudo R-squ.:                0.008853\n",
      "Time:                        16:30:31   Log-Likelihood:                -286.75\n",
      "converged:                       True   LL-Null:                       -289.31\n",
      "Covariance Type:            nonrobust   LLR p-value:                    0.1630\n",
      "==============================================================================================================\n",
      "                                                 coef    std err          z      P>|z|      [0.025      0.975]\n",
      "--------------------------------------------------------------------------------------------------------------\n",
      "const                                         -1.5080      1.945     -0.775      0.438      -5.321       2.305\n",
      "time spend on all social media apps actual     0.0017      0.001      1.776      0.076      -0.000       0.004\n",
      "risk_taking                                   -0.1734      0.145     -1.194      0.232      -0.458       0.111\n",
      "AGE                                            0.0835      0.088      0.950      0.342      -0.089       0.256\n",
      "==============================================================================================================\n"
     ]
    }
   ],
   "source": [
    "# Prepare data for ordinal logistic regression\n",
    "survey['social_media_group'] = survey['social_media_group'].astype('category').cat.codes\n",
    "survey['SA'] = survey['AGE'] * survey['risk_taking']\n",
    "X_continuous_f = survey[['time spend on all social media apps actual','risk_taking','AGE']]\n",
    "y = survey['framing']\n",
    "\n",
    "# Add a constant term to the independent variables\n",
    "X_continuous_f = sm.add_constant(X_continuous_f)\n",
    "\n",
    "# Fit the logistic regression model\n",
    "model_continuous_f = sm.Logit(y, X_continuous_f)\n",
    "result_continuous_f = model_continuous_f.fit(method='bfgs')\n",
    "\n",
    "# Display the summary\n",
    "print(result_continuous_f.summary())"
   ]
  },
  {
   "cell_type": "code",
   "execution_count": 409,
   "metadata": {},
   "outputs": [
    {
     "name": "stdout",
     "output_type": "stream",
     "text": [
      "                 Generalized Linear Model Regression Results                  \n",
      "==============================================================================\n",
      "Dep. Variable:                  sum_r   No. Observations:                  372\n",
      "Model:                            GLM   Df Residuals:                      368\n",
      "Model Family:                 Poisson   Df Model:                            3\n",
      "Link Function:                    Log   Scale:                          1.0000\n",
      "Method:                          IRLS   Log-Likelihood:                -541.73\n",
      "Date:                Thu, 15 Aug 2024   Deviance:                       250.82\n",
      "Time:                        16:24:25   Pearson chi2:                     185.\n",
      "No. Iterations:                     4   Pseudo R-squ. (CS):            0.02025\n",
      "Covariance Type:            nonrobust                                         \n",
      "==============================================================================================================\n",
      "                                                 coef    std err          z      P>|z|      [0.025      0.975]\n",
      "--------------------------------------------------------------------------------------------------------------\n",
      "const                                          1.5886      0.750      2.117      0.034       0.118       3.059\n",
      "time spend on all social media apps actual     0.0005      0.000      1.272      0.203      -0.000       0.001\n",
      "SEX                                           -0.1433      0.079     -1.804      0.071      -0.299       0.012\n",
      "AGE                                           -0.0498      0.034     -1.467      0.142      -0.116       0.017\n",
      "==============================================================================================================\n"
     ]
    }
   ],
   "source": [
    "import statsmodels.api as sm\n",
    "\n",
    "# Define the predictors and the dependent variable\n",
    "X_continuous = survey[['time spend on all social media apps actual', 'SEX', 'AGE']]\n",
    "y = survey['sum_r']\n",
    "\n",
    "# Add a constant to the predictors (this adds the intercept to the model)\n",
    "X_continuous = sm.add_constant(X_continuous)\n",
    "\n",
    "# Fit the Poisson regression model\n",
    "model_poisson = sm.GLM(y, X_continuous, family=sm.families.Poisson()).fit()\n",
    "\n",
    "# Display the summary\n",
    "print(model_poisson.summary())\n"
   ]
  },
  {
   "cell_type": "code",
   "execution_count": 433,
   "metadata": {},
   "outputs": [
    {
     "name": "stdout",
     "output_type": "stream",
     "text": [
      "Optimization terminated successfully.\n",
      "         Current function value: 0.994239\n",
      "         Iterations: 19\n",
      "         Function evaluations: 22\n",
      "         Gradient evaluations: 22\n",
      "                             OrderedModel Results                             \n",
      "==============================================================================\n",
      "Dep. Variable:            risk_taking   Log-Likelihood:                -443.43\n",
      "Model:                   OrderedModel   AIC:                             896.9\n",
      "Method:            Maximum Likelihood   BIC:                             917.4\n",
      "Date:                Thu, 15 Aug 2024                                         \n",
      "Time:                        16:30:52                                         \n",
      "No. Observations:                 446                                         \n",
      "Df Residuals:                     441                                         \n",
      "Df Model:                           3                                         \n",
      "==============================================================================================================\n",
      "                                                 coef    std err          z      P>|z|      [0.025      0.975]\n",
      "--------------------------------------------------------------------------------------------------------------\n",
      "time spend on all social media apps actual     0.0018      0.001      2.070      0.038    9.77e-05       0.004\n",
      "SEX                                           -0.6134      0.188     -3.266      0.001      -0.981      -0.245\n",
      "sm                                            -0.0115      0.009     -1.309      0.190      -0.029       0.006\n",
      "0/1                                           -0.7677      0.300     -2.559      0.010      -1.356      -0.180\n",
      "1/2                                            0.8616      0.059     14.597      0.000       0.746       0.977\n",
      "==============================================================================================================\n"
     ]
    }
   ],
   "source": [
    "# Convert 'SEX' to categorical codes if it's not already\n",
    "survey['SEX'] = survey['SEX'].astype('category').cat.codes\n",
    "survey['sm'] = survey['framing'] * survey['AGE']\n",
    "survey['SA'] = survey['SEX'] * survey['TikTok actual']\n",
    "# Prepare the features (X) and the target (y)\n",
    "X = survey[['time spend on all social media apps actual', 'SEX','sm']]\n",
    "y = survey['risk_taking']\n",
    "\n",
    "# Fit the ordinal logistic regression model\n",
    "model_inter = OrderedModel(y, X, distr='logit')\n",
    "result_inter = model_inter.fit(method='bfgs')\n",
    "\n",
    "# Display the summary\n",
    "print(result_inter.summary())"
   ]
  },
  {
   "cell_type": "code",
   "execution_count": 411,
   "metadata": {},
   "outputs": [
    {
     "name": "stdout",
     "output_type": "stream",
     "text": [
      "Ordered Model AIC: 754.9962018436875, BIC: 774.5906711150532\n",
      "Continuous Model AIC: 751.0190317382005, BIC: 774.5323948638394\n",
      "Ordered Model Log-Likelihood: -372.49810092184373\n",
      "Continuous Model Log-Likelihood: -369.50951586910026\n",
      "Ordered Model Pseudo R-squared: -0.4446267820981198\n",
      "Continuous Model Pseudo R-squared: -0.43303641426245343\n"
     ]
    },
    {
     "ename": "ValueError",
     "evalue": "There should not be a constant in the model",
     "output_type": "error",
     "traceback": [
      "\u001b[0;31m---------------------------------------------------------------------------\u001b[0m",
      "\u001b[0;31mValueError\u001b[0m                                Traceback (most recent call last)",
      "Cell \u001b[0;32mIn[411], line 27\u001b[0m\n\u001b[1;32m     25\u001b[0m \u001b[38;5;66;03m# Fit models for accuracy evaluation\u001b[39;00m\n\u001b[1;32m     26\u001b[0m model_ordered_cv \u001b[38;5;241m=\u001b[39m OrderedModel(y_train, X_ordered_train, distr\u001b[38;5;241m=\u001b[39m\u001b[38;5;124m'\u001b[39m\u001b[38;5;124mlogit\u001b[39m\u001b[38;5;124m'\u001b[39m)\u001b[38;5;241m.\u001b[39mfit(method\u001b[38;5;241m=\u001b[39m\u001b[38;5;124m'\u001b[39m\u001b[38;5;124mbfgs\u001b[39m\u001b[38;5;124m'\u001b[39m, disp\u001b[38;5;241m=\u001b[39m\u001b[38;5;28;01mFalse\u001b[39;00m)\n\u001b[0;32m---> 27\u001b[0m model_continuous_cv \u001b[38;5;241m=\u001b[39m OrderedModel(y_train, X_continuous_train, distr\u001b[38;5;241m=\u001b[39m\u001b[38;5;124m'\u001b[39m\u001b[38;5;124mlogit\u001b[39m\u001b[38;5;124m'\u001b[39m)\u001b[38;5;241m.\u001b[39mfit(method\u001b[38;5;241m=\u001b[39m\u001b[38;5;124m'\u001b[39m\u001b[38;5;124mbfgs\u001b[39m\u001b[38;5;124m'\u001b[39m, disp\u001b[38;5;241m=\u001b[39m\u001b[38;5;28;01mFalse\u001b[39;00m)\n\u001b[1;32m     29\u001b[0m \u001b[38;5;66;03m# Predict and convert probabilities to class labels\u001b[39;00m\n\u001b[1;32m     30\u001b[0m \u001b[38;5;28;01mdef\u001b[39;00m \u001b[38;5;21mpredict_classes\u001b[39m(model, X):\n\u001b[1;32m     31\u001b[0m     \u001b[38;5;66;03m# Get predicted probabilities\u001b[39;00m\n",
      "File \u001b[0;32m/opt/anaconda3/lib/python3.12/site-packages/statsmodels/miscmodels/ordinal_model.py:154\u001b[0m, in \u001b[0;36mOrderedModel.__init__\u001b[0;34m(self, endog, exog, offset, distr, **kwds)\u001b[0m\n\u001b[1;32m    150\u001b[0m         \u001b[38;5;66;03m# Note: Doing the following here would break from_formula\u001b[39;00m\n\u001b[1;32m    151\u001b[0m         \u001b[38;5;66;03m# self.endog = self.endog.argmax(1)\u001b[39;00m\n\u001b[1;32m    153\u001b[0m \u001b[38;5;28;01mif\u001b[39;00m \u001b[38;5;28mself\u001b[39m\u001b[38;5;241m.\u001b[39mk_constant \u001b[38;5;241m>\u001b[39m \u001b[38;5;241m0\u001b[39m:\n\u001b[0;32m--> 154\u001b[0m     \u001b[38;5;28;01mraise\u001b[39;00m \u001b[38;5;167;01mValueError\u001b[39;00m(\u001b[38;5;124m\"\u001b[39m\u001b[38;5;124mThere should not be a constant in the model\u001b[39m\u001b[38;5;124m\"\u001b[39m)\n\u001b[1;32m    156\u001b[0m \u001b[38;5;28mself\u001b[39m\u001b[38;5;241m.\u001b[39m_initialize_labels(labels, k_levels\u001b[38;5;241m=\u001b[39mk_levels)\n\u001b[1;32m    158\u001b[0m \u001b[38;5;66;03m# adjust df\u001b[39;00m\n",
      "\u001b[0;31mValueError\u001b[0m: There should not be a constant in the model"
     ]
    }
   ],
   "source": [
    "# Compare models using AIC and BIC\n",
    "print(f\"Ordered Model AIC: {result_ordered.aic}, BIC: {result_ordered.bic}\")\n",
    "print(f\"Continuous Model AIC: {result_continuous.aic}, BIC: {result_continuous.bic}\")\n",
    "\n",
    "# Log-Likelihood comparison\n",
    "print(f\"Ordered Model Log-Likelihood: {result_ordered.llf}\")\n",
    "print(f\"Continuous Model Log-Likelihood: {result_continuous.llf}\")\n",
    "\n",
    "# Pseudo R-squared calculation\n",
    "def pseudo_r2(llf, llf_null):\n",
    "    return 1 - (llf / llf_null)\n",
    "\n",
    "# Use the log-likelihood of the null model for comparison\n",
    "llf_null = np.log(y.value_counts().max() / len(y)) * len(y)  # Log-likelihood of a null model with the most frequent class\n",
    "pseudo_r2_ordered = pseudo_r2(result_ordered.llf, llf_null)\n",
    "pseudo_r2_continuous = pseudo_r2(result_continuous.llf, llf_null)\n",
    "\n",
    "print(f\"Ordered Model Pseudo R-squared: {pseudo_r2_ordered}\")\n",
    "print(f\"Continuous Model Pseudo R-squared: {pseudo_r2_continuous}\")\n",
    "\n",
    "# Train-test split for accuracy comparison\n",
    "X_ordered_train, X_ordered_test, y_train, y_test = train_test_split(X_ordered, y, test_size=0.2, random_state=42)\n",
    "X_continuous_train, X_continuous_test, y_train, y_test = train_test_split(X_continuous, y, test_size=0.2, random_state=42)\n",
    "\n",
    "# Fit models for accuracy evaluation\n",
    "model_ordered_cv = OrderedModel(y_train, X_ordered_train, distr='logit').fit(method='bfgs', disp=False)\n",
    "model_continuous_cv = OrderedModel(y_train, X_continuous_train, distr='logit').fit(method='bfgs', disp=False)\n",
    "\n",
    "# Predict and convert probabilities to class labels\n",
    "def predict_classes(model, X):\n",
    "    # Get predicted probabilities\n",
    "    probs = model.predict(X)\n",
    "    # Convert probabilities to class labels\n",
    "    return np.argmax(probs, axis=1)\n",
    "\n",
    "# Predict and calculate accuracy\n",
    "y_pred_ordered = predict_classes(model_ordered_cv, X_ordered_test)\n",
    "y_pred_continuous = predict_classes(model_continuous_cv, X_continuous_test)\n",
    "accuracy_ordered = accuracy_score(y_test, y_pred_ordered)\n",
    "accuracy_continuous = accuracy_score(y_test, y_pred_continuous)\n",
    "\n",
    "print(f\"Ordered Model Accuracy: {accuracy_ordered}\")\n",
    "print(f\"Continuous Model Accuracy: {accuracy_continuous}\")"
   ]
  },
  {
   "cell_type": "code",
   "execution_count": 434,
   "metadata": {},
   "outputs": [
    {
     "name": "stdout",
     "output_type": "stream",
     "text": [
      "Optimization terminated successfully.\n",
      "         Current function value: 1.068271\n",
      "         Iterations: 28\n",
      "         Function evaluations: 33\n",
      "         Gradient evaluations: 33\n",
      "                             OrderedModel Results                             \n",
      "==============================================================================\n",
      "Dep. Variable:     social_media_group   Log-Likelihood:                -476.45\n",
      "Model:                   OrderedModel   AIC:                             964.9\n",
      "Method:            Maximum Likelihood   BIC:                             989.5\n",
      "Date:                Thu, 15 Aug 2024                                         \n",
      "Time:                        16:31:14                                         \n",
      "No. Observations:                 446                                         \n",
      "Df Residuals:                     440                                         \n",
      "Df Model:                           4                                         \n",
      "===============================================================================\n",
      "                  coef    std err          z      P>|z|      [0.025      0.975]\n",
      "-------------------------------------------------------------------------------\n",
      "risk_taking     0.1580      0.131      1.209      0.227      -0.098       0.414\n",
      "SEX            -0.1499      0.185     -0.808      0.419      -0.513       0.214\n",
      "AGE            -0.1339      0.077     -1.728      0.084      -0.286       0.018\n",
      "framing         0.4205      0.185      2.275      0.023       0.058       0.783\n",
      "0/1            -3.5746      1.693     -2.111      0.035      -6.894      -0.256\n",
      "1/2             0.2607      0.077      3.369      0.001       0.109       0.412\n",
      "===============================================================================\n"
     ]
    }
   ],
   "source": [
    "# Convert 'SEX' to categorical codes \n",
    "survey['SEX'] = survey['SEX'].astype('category').cat.codes\n",
    "survey['gender_sm'] = survey['SEX'] * survey['social_media_group']\n",
    "survey['SA'] = survey['SEX'] * survey['risk_taking']\n",
    "# Prepare the features (X) and the target (y)\n",
    "X = survey[['risk_taking', 'SEX','AGE','framing']]\n",
    "y = survey['social_media_group']\n",
    "\n",
    "# Fit the ordinal logistic regression model\n",
    "model_sm = OrderedModel(y, X, distr='logit')\n",
    "result_sm = model_sm.fit(method='bfgs')\n",
    "\n",
    "# Display the summary\n",
    "print(result_sm.summary())"
   ]
  },
  {
   "cell_type": "code",
   "execution_count": 435,
   "metadata": {},
   "outputs": [
    {
     "name": "stdout",
     "output_type": "stream",
     "text": [
      "                                        OLS Regression Results                                        \n",
      "======================================================================================================\n",
      "Dep. Variable:     time spend on all social media apps actual   R-squared:                       0.019\n",
      "Model:                                                    OLS   Adj. R-squared:                  0.010\n",
      "Method:                                         Least Squares   F-statistic:                     2.100\n",
      "Date:                                        Thu, 15 Aug 2024   Prob (F-statistic):             0.0799\n",
      "Time:                                                16:31:21   Log-Likelihood:                -2701.2\n",
      "No. Observations:                                         446   AIC:                             5412.\n",
      "Df Residuals:                                             441   BIC:                             5433.\n",
      "Df Model:                                                   4                                         \n",
      "Covariance Type:                                    nonrobust                                         \n",
      "===============================================================================\n",
      "                  coef    std err          t      P>|t|      [0.025      0.975]\n",
      "-------------------------------------------------------------------------------\n",
      "const         382.6573     93.379      4.098      0.000     199.135     566.180\n",
      "risk_taking    12.8671      7.262      1.772      0.077      -1.406      27.140\n",
      "SEX             0.9908     10.243      0.097      0.923     -19.141      21.122\n",
      "AGE            -6.3626      4.277     -1.488      0.138     -14.769       2.043\n",
      "framing        18.3125     10.323      1.774      0.077      -1.976      38.601\n",
      "==============================================================================\n",
      "Omnibus:                       24.541   Durbin-Watson:                   2.056\n",
      "Prob(Omnibus):                  0.000   Jarque-Bera (JB):               27.262\n",
      "Skew:                           0.602   Prob(JB):                     1.20e-06\n",
      "Kurtosis:                       3.138   Cond. No.                         412.\n",
      "==============================================================================\n",
      "\n",
      "Notes:\n",
      "[1] Standard Errors assume that the covariance matrix of the errors is correctly specified.\n"
     ]
    }
   ],
   "source": [
    "# Social media as dependant in lienar regression\n",
    "\n",
    "X = survey[['risk_taking', 'SEX','AGE','framing']]\n",
    "y = survey['time spend on all social media apps actual']\n",
    "X = sm.add_constant(X)\n",
    "\n",
    "model = sm.OLS(y, X).fit()\n",
    "print(model.summary())"
   ]
  },
  {
   "cell_type": "code",
   "execution_count": 346,
   "metadata": {},
   "outputs": [
    {
     "name": "stdout",
     "output_type": "stream",
     "text": [
      "Optimization terminated successfully.\n",
      "         Current function value: 1.066838\n",
      "         Iterations: 28\n",
      "         Function evaluations: 33\n",
      "         Gradient evaluations: 33\n",
      "                             OrderedModel Results                             \n",
      "==============================================================================\n",
      "Dep. Variable:     social_media_group   Log-Likelihood:                -477.94\n",
      "Model:                   OrderedModel   AIC:                             967.9\n",
      "Method:            Maximum Likelihood   BIC:                             992.5\n",
      "Date:                Thu, 15 Aug 2024                                         \n",
      "Time:                        11:17:19                                         \n",
      "No. Observations:                 448                                         \n",
      "Df Residuals:                     442                                         \n",
      "Df Model:                           4                                         \n",
      "===============================================================================\n",
      "                  coef    std err          z      P>|z|      [0.025      0.975]\n",
      "-------------------------------------------------------------------------------\n",
      "risk_taking     0.1532      0.131      1.173      0.241      -0.103       0.409\n",
      "SEX            -0.1390      0.185     -0.750      0.453      -0.502       0.224\n",
      "AGE            -0.1409      0.077     -1.822      0.068      -0.293       0.011\n",
      "framing         0.4330      0.185      2.345      0.019       0.071       0.795\n",
      "0/1            -3.7216      1.690     -2.201      0.028      -7.035      -0.408\n",
      "1/2             0.2580      0.077      3.332      0.001       0.106       0.410\n",
      "===============================================================================\n"
     ]
    }
   ],
   "source": [
    "# Convert 'SEX' to categorical codes \n",
    "survey['SEX'] = survey['SEX'].astype('category').cat.codes\n",
    "survey['gender_sm'] = survey['SEX'] * survey['social_media_group']\n",
    "survey['SA'] = survey['SEX'] * survey['risk_taking']\n",
    "# Prepare the features (X) and the target (y)\n",
    "X = survey[['risk_taking', 'SEX','AGE','framing']]\n",
    "y = survey['social_media_group']\n",
    "\n",
    "# Fit the ordinal logistic regression model\n",
    "model_sm = OrderedModel(y, X, distr='logit')\n",
    "result_sm = model_sm.fit(method='bfgs')\n",
    "\n",
    "# Display the summary\n",
    "print(result_sm.summary())"
   ]
  },
  {
   "cell_type": "code",
   "execution_count": 288,
   "metadata": {},
   "outputs": [
    {
     "name": "stdout",
     "output_type": "stream",
     "text": [
      "LR test statistic: inf\n",
      "p-value: 0.0\n",
      "McFadden's R-squared: 1.0\n"
     ]
    },
    {
     "name": "stderr",
     "output_type": "stream",
     "text": [
      "/var/folders/jh/x3pzkf253nz6__d6tfg4p4200000gn/T/ipykernel_98034/2641258256.py:7: RuntimeWarning: divide by zero encountered in log\n",
      "  ll_null = np.log(null_probs[np.arange(len(y)), y]).sum()\n"
     ]
    }
   ],
   "source": [
    "import numpy as np\n",
    "\n",
    "# Calculate log-likelihood of \"most common class\" model\n",
    "most_common_class = y.mode()[0]\n",
    "null_probs = np.zeros((len(y), y.nunique()))\n",
    "null_probs[:, most_common_class] = 1\n",
    "ll_null = np.log(null_probs[np.arange(len(y)), y]).sum()\n",
    "\n",
    "# Compare to your model's log-likelihood\n",
    "ll_full = result_sm.llf\n",
    "\n",
    "# Calculate likelihood ratio test\n",
    "lr_statistic = -2 * (ll_null - ll_full)\n",
    "df = len(result_sm.params) - 1  # Subtracting 1 for the implicit intercept in the null model\n",
    "p_value = scipy.stats.chi2.sf(lr_statistic, df)\n",
    "\n",
    "print(f\"LR test statistic: {lr_statistic}\")\n",
    "print(f\"p-value: {p_value}\")\n",
    "\n",
    "# Recalculate McFadden's R-squared\n",
    "mcfadden_r2 = 1 - (ll_full / ll_null)\n",
    "print(f\"McFadden's R-squared: {mcfadden_r2}\")"
   ]
  },
  {
   "cell_type": "code",
   "execution_count": 347,
   "metadata": {},
   "outputs": [
    {
     "name": "stdout",
     "output_type": "stream",
     "text": [
      "Baseline Accuracy: 0.4286\n",
      "Model Accuracy: 0.9487\n",
      "Improvement: 0.5201\n",
      "Confusion Matrix:\n",
      "[[ 46  25  51]\n",
      " [ 63  19  52]\n",
      " [118  27  47]]\n",
      "              precision    recall  f1-score   support\n",
      "\n",
      "           0       0.20      0.38      0.26       122\n",
      "           1       0.27      0.14      0.19       134\n",
      "           2       0.31      0.24      0.27       192\n",
      "\n",
      "    accuracy                           0.25       448\n",
      "   macro avg       0.26      0.25      0.24       448\n",
      "weighted avg       0.27      0.25      0.25       448\n",
      "\n"
     ]
    }
   ],
   "source": [
    "baseline_accuracy = y.value_counts().max() / len(y)\n",
    "print(f\"Baseline Accuracy: {baseline_accuracy:.4f}\")\n",
    "print(f\"Model Accuracy: {accuracy:.4f}\")\n",
    "print(f\"Improvement: {accuracy - baseline_accuracy:.4f}\")\n",
    "\n",
    "from sklearn.metrics import confusion_matrix\n",
    "cm = confusion_matrix(y, y_pred)\n",
    "print(\"Confusion Matrix:\")\n",
    "print(cm)\n",
    "from sklearn.metrics import classification_report\n",
    "print(classification_report(y, y_pred))"
   ]
  },
  {
   "cell_type": "markdown",
   "metadata": {},
   "source": [
    "model is performing exactly the same as the baseline model, which simply predicts the most common class every time."
   ]
  },
  {
   "cell_type": "code",
   "execution_count": null,
   "metadata": {},
   "outputs": [],
   "source": [
    "import pandas as pd\n",
    "import numpy as np\n",
    "import seaborn as sns\n",
    "import matplotlib.pyplot as plt\n",
    "from scipy.stats import skew\n",
    "\n",
    "# Assuming df is your DataFrame and 'time_spent_social_media' is your column\n",
    "\n",
    "# 1. Visual Inspection: Histogram\n",
    "plt.figure(figsize=(10, 6))\n",
    "sns.histplot(survey['time spend on all social media apps actual'], kde=True, bins=30)\n",
    "plt.title('Histogram of Time Spent on Social Media')\n",
    "plt.xlabel('Time Spent (Minutes)')\n",
    "plt.ylabel('Frequency')\n",
    "plt.show()\n",
    "\n",
    "# 2. Skewness Statistic\n",
    "skewness_value = skew(surveyurvey['time spend on all social media apps actual'])\n",
    "print(f'Skewness: {skewness_value:.2f}')\n",
    "\n",
    "# 3. Normal Q-Q Plot\n",
    "import scipy.stats as stats\n",
    "import matplotlib.pyplot as plt\n",
    "\n",
    "plt.figure(figsize=(6, 6))\n",
    "stats.probplot(survey['time spend on all social media apps actual'], dist=\"norm\", plot=plt)\n",
    "plt.title('Normal Q-Q Plot')\n",
    "plt.show()"
   ]
  }
 ],
 "metadata": {
  "kernelspec": {
   "display_name": "base",
   "language": "python",
   "name": "python3"
  },
  "language_info": {
   "codemirror_mode": {
    "name": "ipython",
    "version": 3
   },
   "file_extension": ".py",
   "mimetype": "text/x-python",
   "name": "python",
   "nbconvert_exporter": "python",
   "pygments_lexer": "ipython3",
   "version": "3.12.4"
  }
 },
 "nbformat": 4,
 "nbformat_minor": 2
}
